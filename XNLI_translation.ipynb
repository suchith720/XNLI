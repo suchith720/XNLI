{
 "cells": [
  {
   "cell_type": "code",
   "execution_count": 1,
   "id": "a4a2dd0c",
   "metadata": {},
   "outputs": [],
   "source": [
    "%reload_ext autoreload\n",
    "%autoreload 2"
   ]
  },
  {
   "cell_type": "code",
   "execution_count": 2,
   "id": "c8bd2828",
   "metadata": {},
   "outputs": [],
   "source": [
    "import torch\n",
    "import logging\n",
    "import numpy as np\n",
    "import pandas as pd\n",
    "from tqdm.notebook import tqdm\n",
    "\n",
    "from transformers import M2M100ForConditionalGeneration, M2M100Tokenizer\n",
    "from torch.utils.data import DataLoader\n",
    "\n",
    "from utils import io\n",
    "from utils import translate\n",
    "from model import m2m100_dataset"
   ]
  },
  {
   "cell_type": "code",
   "execution_count": 3,
   "id": "feb764b3",
   "metadata": {},
   "outputs": [],
   "source": [
    "device = torch.device('cuda:1' if torch.cuda.is_available() else 'cpu')"
   ]
  },
  {
   "cell_type": "markdown",
   "id": "aafcd693",
   "metadata": {},
   "source": [
    "## Read data"
   ]
  },
  {
   "cell_type": "code",
   "execution_count": 4,
   "id": "af86ff19",
   "metadata": {},
   "outputs": [],
   "source": [
    "data_dir = 'data/train'"
   ]
  },
  {
   "cell_type": "code",
   "execution_count": 5,
   "id": "09419e8e",
   "metadata": {},
   "outputs": [],
   "source": [
    "train_file = f'{data_dir}/train.tsv'\n",
    "data, vocab = io.load_xnli_dataset(train_file)"
   ]
  },
  {
   "cell_type": "code",
   "execution_count": 52,
   "id": "55080459",
   "metadata": {},
   "outputs": [],
   "source": [
    "data_dict = translate.create_languagewise_dict(data)"
   ]
  },
  {
   "cell_type": "code",
   "execution_count": 53,
   "id": "70634803",
   "metadata": {},
   "outputs": [
    {
     "data": {
      "text/html": [
       "<div>\n",
       "<style scoped>\n",
       "    .dataframe tbody tr th:only-of-type {\n",
       "        vertical-align: middle;\n",
       "    }\n",
       "\n",
       "    .dataframe tbody tr th {\n",
       "        vertical-align: top;\n",
       "    }\n",
       "\n",
       "    .dataframe thead th {\n",
       "        text-align: right;\n",
       "    }\n",
       "</style>\n",
       "<table border=\"1\" class=\"dataframe\">\n",
       "  <thead>\n",
       "    <tr style=\"text-align: right;\">\n",
       "      <th></th>\n",
       "      <th>gold_label</th>\n",
       "      <th>premise</th>\n",
       "      <th>hypothesis</th>\n",
       "      <th>language</th>\n",
       "    </tr>\n",
       "  </thead>\n",
       "  <tbody>\n",
       "    <tr>\n",
       "      <th>0</th>\n",
       "      <td>neutral</td>\n",
       "      <td>At ground level, the asymmetrical cathedral is...</td>\n",
       "      <td>It's hard to find a dramatic view of the cathe...</td>\n",
       "      <td>en</td>\n",
       "    </tr>\n",
       "    <tr>\n",
       "      <th>1</th>\n",
       "      <td>contradiction</td>\n",
       "      <td>Hanuman is a beneficent deity predating classi...</td>\n",
       "      <td>Hanuman declared that all the lemurs here need...</td>\n",
       "      <td>en</td>\n",
       "    </tr>\n",
       "    <tr>\n",
       "      <th>2</th>\n",
       "      <td>contradiction</td>\n",
       "      <td>All other spending as well as federal revenue ...</td>\n",
       "      <td>None of the federal spending is assumed to grow</td>\n",
       "      <td>en</td>\n",
       "    </tr>\n",
       "    <tr>\n",
       "      <th>3</th>\n",
       "      <td>neutral</td>\n",
       "      <td>uh-huh that's interesting well it sounds as th...</td>\n",
       "      <td>That information about graduation rates is int...</td>\n",
       "      <td>en</td>\n",
       "    </tr>\n",
       "    <tr>\n",
       "      <th>4</th>\n",
       "      <td>neutral</td>\n",
       "      <td>Some kind of instant recognition on his father...</td>\n",
       "      <td>Did his father recognize him?</td>\n",
       "      <td>en</td>\n",
       "    </tr>\n",
       "  </tbody>\n",
       "</table>\n",
       "</div>"
      ],
      "text/plain": [
       "      gold_label                                            premise  \\\n",
       "0        neutral  At ground level, the asymmetrical cathedral is...   \n",
       "1  contradiction  Hanuman is a beneficent deity predating classi...   \n",
       "2  contradiction  All other spending as well as federal revenue ...   \n",
       "3        neutral  uh-huh that's interesting well it sounds as th...   \n",
       "4        neutral  Some kind of instant recognition on his father...   \n",
       "\n",
       "                                          hypothesis language  \n",
       "0  It's hard to find a dramatic view of the cathe...       en  \n",
       "1  Hanuman declared that all the lemurs here need...       en  \n",
       "2    None of the federal spending is assumed to grow       en  \n",
       "3  That information about graduation rates is int...       en  \n",
       "4                      Did his father recognize him?       en  "
      ]
     },
     "execution_count": 53,
     "metadata": {},
     "output_type": "execute_result"
    }
   ],
   "source": [
    "data.head()"
   ]
  },
  {
   "cell_type": "markdown",
   "id": "98d7edfc",
   "metadata": {},
   "source": [
    "## Model"
   ]
  },
  {
   "cell_type": "code",
   "execution_count": 10,
   "id": "70baf7f3",
   "metadata": {},
   "outputs": [],
   "source": [
    "model = M2M100ForConditionalGeneration.from_pretrained(\"facebook/m2m100_418M\")\n",
    "tokenizer = M2M100Tokenizer.from_pretrained(\"facebook/m2m100_418M\")\n",
    "\n",
    "model = model.to(device)"
   ]
  },
  {
   "cell_type": "markdown",
   "id": "4b27f997",
   "metadata": {},
   "source": [
    "## Dataloader"
   ]
  },
  {
   "cell_type": "code",
   "execution_count": 11,
   "id": "6a75461c",
   "metadata": {},
   "outputs": [],
   "source": [
    "lang_code = 'en'"
   ]
  },
  {
   "cell_type": "code",
   "execution_count": 20,
   "id": "cd5ed5ae",
   "metadata": {},
   "outputs": [],
   "source": [
    "dataset = m2m100_dataset.M2M100Dataset(data_dict, lang_code, tokenizer, device)"
   ]
  },
  {
   "cell_type": "code",
   "execution_count": 23,
   "id": "4f973d38",
   "metadata": {},
   "outputs": [],
   "source": [
    "batch_size = 16"
   ]
  },
  {
   "cell_type": "code",
   "execution_count": 24,
   "id": "e84babe2",
   "metadata": {},
   "outputs": [],
   "source": [
    "dataloader = DataLoader(\n",
    "        dataset, \n",
    "        batch_size=batch_size,\n",
    "        drop_last=False,\n",
    "        num_workers=0,\n",
    "        shuffle=False,\n",
    "    )"
   ]
  },
  {
   "cell_type": "code",
   "execution_count": 25,
   "id": "a2795843",
   "metadata": {},
   "outputs": [],
   "source": [
    "batch = next(iter(dataloader))"
   ]
  },
  {
   "cell_type": "code",
   "execution_count": 30,
   "id": "b5468862",
   "metadata": {},
   "outputs": [
    {
     "data": {
      "text/plain": [
       "[1, 0, 0, 1, 1, 2, 1, 1, 1, 0, 0, 0, 0, 0, 1, 2]"
      ]
     },
     "execution_count": 30,
     "metadata": {},
     "output_type": "execute_result"
    }
   ],
   "source": [
    "batch['label'].tolist()"
   ]
  },
  {
   "cell_type": "code",
   "execution_count": 62,
   "id": "1881c401",
   "metadata": {},
   "outputs": [],
   "source": [
    "tar_code = 'hi'\n",
    "outputs = model.generate(input_ids=batch['input_ids'], attention_mask=batch['attention_mask'], \n",
    "                         forced_bos_token_id=tokenizer.get_lang_id(tar_code), max_new_tokens=500)"
   ]
  },
  {
   "cell_type": "code",
   "execution_count": 70,
   "id": "7c2360bf",
   "metadata": {},
   "outputs": [],
   "source": [
    "tar_text = tokenizer.batch_decode(outputs, skip_special_tokens=True)"
   ]
  },
  {
   "cell_type": "code",
   "execution_count": 72,
   "id": "72d4623d",
   "metadata": {},
   "outputs": [],
   "source": [
    "#tar_text"
   ]
  },
  {
   "cell_type": "markdown",
   "id": "4a9d2d3a",
   "metadata": {},
   "source": [
    "## Translation"
   ]
  },
  {
   "cell_type": "code",
   "execution_count": 62,
   "id": "576568d8",
   "metadata": {
    "code_folding": [
     0
    ]
   },
   "outputs": [],
   "source": [
    "class TranslateText():\n",
    "    \n",
    "    def __init__(self, model, tokenizer, data_dict, vocab, batch_size, device):\n",
    "        self.model = model.to(device)\n",
    "        self.tokenizer = tokenizer\n",
    "        \n",
    "        self.vocab = vocab\n",
    "        self.data_dict = data_dict\n",
    "        \n",
    "        self.batch_size = batch_size\n",
    "        \n",
    "        self.device = device\n",
    "        \n",
    "    def run(self, lang_list, save_file):\n",
    "        \n",
    "        for src_code in tqdm(lang_list):\n",
    "            for tar_code in lang_list:\n",
    "                \n",
    "                if src_code != tar_code:\n",
    "                    logging.info(f'Translating {src_code} to {tar_code}')\n",
    "                    output = self.translate(src_code, tar_code)\n",
    "                    df = pd.DataFrame(output)\n",
    "                    df.to_csv(save_file.format(f'{src_code}_{tar_code}'))\n",
    "        \n",
    "    \n",
    "    def translate(self, src_code, tar_code, max_new_tokens=500):\n",
    "        dataset = m2m100_dataset.M2M100Dataset(self.data_dict, src_code, \n",
    "                                               self.tokenizer, self.device)\n",
    "        \n",
    "        dataloader = DataLoader(\n",
    "            dataset, \n",
    "            batch_size=batch_size,\n",
    "            drop_last=False,\n",
    "            num_workers=0,\n",
    "            shuffle=False,\n",
    "        )\n",
    "        \n",
    "        tar_texts = {}\n",
    "        for idx, batch in tqdm(enumerate(dataloader), total=len(dataloader)):\n",
    "            outputs = model.generate(**batch['premise'], forced_bos_token_id=tokenizer.get_lang_id(tar_code), \n",
    "                                      max_new_tokens=max_new_tokens)\n",
    "            tar_premise = tokenizer.batch_decode(outputs, skip_special_tokens=True)\n",
    "            l = tar_texts.setdefault('premise', [])\n",
    "            l.extend(tar_premise)\n",
    "            \n",
    "            outputs = model.generate(**batch['hypothesis'], forced_bos_token_id=tokenizer.get_lang_id(tar_code), \n",
    "                                      max_new_tokens=max_new_tokens)\n",
    "            tar_hypothesis = tokenizer.batch_decode(outputs, skip_special_tokens=True)\n",
    "            l = tar_texts.setdefault('hypothesis', [])\n",
    "            l.extend(tar_hypothesis)\n",
    "            \n",
    "            l = tar_texts.setdefault('label', [])\n",
    "            l.extend(np.array(self.vocab)[batch['label'].tolist()].tolist())\n",
    "\n",
    "        return tar_texts\n",
    "            "
   ]
  },
  {
   "cell_type": "code",
   "execution_count": 64,
   "id": "082fa98e",
   "metadata": {},
   "outputs": [
    {
     "ename": "NameError",
     "evalue": "name 'set_logger' is not defined",
     "output_type": "error",
     "traceback": [
      "\u001b[0;31m---------------------------------------------------------------------------\u001b[0m",
      "\u001b[0;31mNameError\u001b[0m                                 Traceback (most recent call last)",
      "\u001b[0;32m/tmp/ipykernel_18405/2064362846.py\u001b[0m in \u001b[0;36m<module>\u001b[0;34m\u001b[0m\n\u001b[1;32m      1\u001b[0m \u001b[0mlog_path\u001b[0m \u001b[0;34m=\u001b[0m \u001b[0;34mf\"{data_dir}/log.txt\"\u001b[0m\u001b[0;34m\u001b[0m\u001b[0;34m\u001b[0m\u001b[0m\n\u001b[0;32m----> 2\u001b[0;31m \u001b[0mlogger\u001b[0m \u001b[0;34m=\u001b[0m \u001b[0mset_logger\u001b[0m\u001b[0;34m(\u001b[0m\u001b[0mlog_path\u001b[0m\u001b[0;34m)\u001b[0m\u001b[0;34m\u001b[0m\u001b[0;34m\u001b[0m\u001b[0m\n\u001b[0m",
      "\u001b[0;31mNameError\u001b[0m: name 'set_logger' is not defined"
     ]
    }
   ],
   "source": [
    "log_path = f\"{data_dir}/log.txt\"\n",
    "logger = io.set_logger(log_path)"
   ]
  },
  {
   "cell_type": "code",
   "execution_count": 63,
   "id": "a7c9249e",
   "metadata": {},
   "outputs": [
    {
     "data": {
      "application/vnd.jupyter.widget-view+json": {
       "model_id": "ad4c04a7cc944952be66f1dee98c111b",
       "version_major": 2,
       "version_minor": 0
      },
      "text/plain": [
       "  0%|          | 0/5 [00:00<?, ?it/s]"
      ]
     },
     "metadata": {},
     "output_type": "display_data"
    },
    {
     "data": {
      "application/vnd.jupyter.widget-view+json": {
       "model_id": "3d055e199bdd4bda915c33aabdbb0951",
       "version_major": 2,
       "version_minor": 0
      },
      "text/plain": [
       "  0%|          | 0/13 [00:00<?, ?it/s]"
      ]
     },
     "metadata": {},
     "output_type": "display_data"
    },
    {
     "data": {
      "application/vnd.jupyter.widget-view+json": {
       "model_id": "c428bb430fef428e840e7919780d9c10",
       "version_major": 2,
       "version_minor": 0
      },
      "text/plain": [
       "  0%|          | 0/13 [00:00<?, ?it/s]"
      ]
     },
     "metadata": {},
     "output_type": "display_data"
    },
    {
     "data": {
      "application/vnd.jupyter.widget-view+json": {
       "model_id": "d104707b9b524d76b5c78a7150a303ad",
       "version_major": 2,
       "version_minor": 0
      },
      "text/plain": [
       "  0%|          | 0/13 [00:00<?, ?it/s]"
      ]
     },
     "metadata": {},
     "output_type": "display_data"
    },
    {
     "data": {
      "application/vnd.jupyter.widget-view+json": {
       "model_id": "021a5a574bad456ca6d1a73f5ab97663",
       "version_major": 2,
       "version_minor": 0
      },
      "text/plain": [
       "  0%|          | 0/13 [00:00<?, ?it/s]"
      ]
     },
     "metadata": {},
     "output_type": "display_data"
    },
    {
     "data": {
      "application/vnd.jupyter.widget-view+json": {
       "model_id": "e7b62ac5ce9f4226876666b04f954882",
       "version_major": 2,
       "version_minor": 0
      },
      "text/plain": [
       "  0%|          | 0/13 [00:00<?, ?it/s]"
      ]
     },
     "metadata": {},
     "output_type": "display_data"
    },
    {
     "data": {
      "application/vnd.jupyter.widget-view+json": {
       "model_id": "283b404581b84a8382ca6f7058cfd579",
       "version_major": 2,
       "version_minor": 0
      },
      "text/plain": [
       "  0%|          | 0/13 [00:00<?, ?it/s]"
      ]
     },
     "metadata": {},
     "output_type": "display_data"
    },
    {
     "data": {
      "application/vnd.jupyter.widget-view+json": {
       "model_id": "69b32e5999de4a44a7c021cf4c205dfc",
       "version_major": 2,
       "version_minor": 0
      },
      "text/plain": [
       "  0%|          | 0/13 [00:00<?, ?it/s]"
      ]
     },
     "metadata": {},
     "output_type": "display_data"
    },
    {
     "data": {
      "application/vnd.jupyter.widget-view+json": {
       "model_id": "97a8f54f0bf84c26b73bb03e26dc7af5",
       "version_major": 2,
       "version_minor": 0
      },
      "text/plain": [
       "  0%|          | 0/13 [00:00<?, ?it/s]"
      ]
     },
     "metadata": {},
     "output_type": "display_data"
    },
    {
     "data": {
      "application/vnd.jupyter.widget-view+json": {
       "model_id": "ed9c0b6337d145ca98b23f368cccc2c7",
       "version_major": 2,
       "version_minor": 0
      },
      "text/plain": [
       "  0%|          | 0/13 [00:00<?, ?it/s]"
      ]
     },
     "metadata": {},
     "output_type": "display_data"
    },
    {
     "data": {
      "application/vnd.jupyter.widget-view+json": {
       "model_id": "49b9ab4379304c77b77b4d063faca262",
       "version_major": 2,
       "version_minor": 0
      },
      "text/plain": [
       "  0%|          | 0/13 [00:00<?, ?it/s]"
      ]
     },
     "metadata": {},
     "output_type": "display_data"
    },
    {
     "data": {
      "application/vnd.jupyter.widget-view+json": {
       "model_id": "929665873b1e464d8ea6c0db1be42e81",
       "version_major": 2,
       "version_minor": 0
      },
      "text/plain": [
       "  0%|          | 0/13 [00:00<?, ?it/s]"
      ]
     },
     "metadata": {},
     "output_type": "display_data"
    },
    {
     "data": {
      "application/vnd.jupyter.widget-view+json": {
       "model_id": "6d1f506ed3b9452bb600bdd115319608",
       "version_major": 2,
       "version_minor": 0
      },
      "text/plain": [
       "  0%|          | 0/13 [00:00<?, ?it/s]"
      ]
     },
     "metadata": {},
     "output_type": "display_data"
    },
    {
     "data": {
      "application/vnd.jupyter.widget-view+json": {
       "model_id": "4bc8bbc6ef584eb28b6f7b6800a910c7",
       "version_major": 2,
       "version_minor": 0
      },
      "text/plain": [
       "  0%|          | 0/13 [00:00<?, ?it/s]"
      ]
     },
     "metadata": {},
     "output_type": "display_data"
    },
    {
     "data": {
      "application/vnd.jupyter.widget-view+json": {
       "model_id": "cc06c306748a466caf20b44d4ed0326e",
       "version_major": 2,
       "version_minor": 0
      },
      "text/plain": [
       "  0%|          | 0/13 [00:00<?, ?it/s]"
      ]
     },
     "metadata": {},
     "output_type": "display_data"
    },
    {
     "data": {
      "application/vnd.jupyter.widget-view+json": {
       "model_id": "c1005b42619e46558e6efda79a330cf5",
       "version_major": 2,
       "version_minor": 0
      },
      "text/plain": [
       "  0%|          | 0/13 [00:00<?, ?it/s]"
      ]
     },
     "metadata": {},
     "output_type": "display_data"
    },
    {
     "data": {
      "application/vnd.jupyter.widget-view+json": {
       "model_id": "f8f003757cb74150b4c36ec3e7ac2ede",
       "version_major": 2,
       "version_minor": 0
      },
      "text/plain": [
       "  0%|          | 0/13 [00:00<?, ?it/s]"
      ]
     },
     "metadata": {},
     "output_type": "display_data"
    },
    {
     "data": {
      "application/vnd.jupyter.widget-view+json": {
       "model_id": "ee9384e28fb34912ad20d10c5f98ad13",
       "version_major": 2,
       "version_minor": 0
      },
      "text/plain": [
       "  0%|          | 0/13 [00:00<?, ?it/s]"
      ]
     },
     "metadata": {},
     "output_type": "display_data"
    },
    {
     "data": {
      "application/vnd.jupyter.widget-view+json": {
       "model_id": "a3791d31daad48009120f42316be722b",
       "version_major": 2,
       "version_minor": 0
      },
      "text/plain": [
       "  0%|          | 0/13 [00:00<?, ?it/s]"
      ]
     },
     "metadata": {},
     "output_type": "display_data"
    },
    {
     "data": {
      "application/vnd.jupyter.widget-view+json": {
       "model_id": "8c33bd191cfc42d9a4e9a91f2350fa65",
       "version_major": 2,
       "version_minor": 0
      },
      "text/plain": [
       "  0%|          | 0/13 [00:00<?, ?it/s]"
      ]
     },
     "metadata": {},
     "output_type": "display_data"
    },
    {
     "data": {
      "application/vnd.jupyter.widget-view+json": {
       "model_id": "9e8b2d90931447bebf3275f3f1408817",
       "version_major": 2,
       "version_minor": 0
      },
      "text/plain": [
       "  0%|          | 0/13 [00:00<?, ?it/s]"
      ]
     },
     "metadata": {},
     "output_type": "display_data"
    }
   ],
   "source": [
    "trans_text = TranslateText(model, tokenizer, data_dict, vocab, batch_size=256, device=device)\n",
    "\n",
    "lang_list = ['en', 'hi', 'sw', 'es', 'zh']\n",
    "save_file = data_dir + '/extended_train_{}.csv'\n",
    "\n",
    "trans_text.run(lang_list, save_file)"
   ]
  },
  {
   "cell_type": "markdown",
   "id": "d62f44cc",
   "metadata": {},
   "source": [
    "## Extended train"
   ]
  },
  {
   "cell_type": "code",
   "execution_count": 187,
   "id": "a36c4418",
   "metadata": {},
   "outputs": [],
   "source": [
    "train_extended = pd.read_csv(save_file)"
   ]
  },
  {
   "cell_type": "code",
   "execution_count": 188,
   "id": "8eca63d2",
   "metadata": {},
   "outputs": [
    {
     "data": {
      "text/html": [
       "<div>\n",
       "<style scoped>\n",
       "    .dataframe tbody tr th:only-of-type {\n",
       "        vertical-align: middle;\n",
       "    }\n",
       "\n",
       "    .dataframe tbody tr th {\n",
       "        vertical-align: top;\n",
       "    }\n",
       "\n",
       "    .dataframe thead th {\n",
       "        text-align: right;\n",
       "    }\n",
       "</style>\n",
       "<table border=\"1\" class=\"dataframe\">\n",
       "  <thead>\n",
       "    <tr style=\"text-align: right;\">\n",
       "      <th></th>\n",
       "      <th>premise</th>\n",
       "      <th>hypothesis</th>\n",
       "      <th>gold_label</th>\n",
       "      <th>language</th>\n",
       "    </tr>\n",
       "  </thead>\n",
       "  <tbody>\n",
       "    <tr>\n",
       "      <th>0</th>\n",
       "      <td>At ground level, the asymmetrical cathedral is...</td>\n",
       "      <td>It's hard to find a dramatic view of the cathe...</td>\n",
       "      <td>1</td>\n",
       "      <td>en</td>\n",
       "    </tr>\n",
       "    <tr>\n",
       "      <th>1</th>\n",
       "      <td>Hanuman is a beneficent deity predating classi...</td>\n",
       "      <td>Hanuman declared that all the lemurs here need...</td>\n",
       "      <td>0</td>\n",
       "      <td>en</td>\n",
       "    </tr>\n",
       "    <tr>\n",
       "      <th>2</th>\n",
       "      <td>All other spending as well as federal revenue ...</td>\n",
       "      <td>None of the federal spending is assumed to grow</td>\n",
       "      <td>0</td>\n",
       "      <td>en</td>\n",
       "    </tr>\n",
       "    <tr>\n",
       "      <th>3</th>\n",
       "      <td>uh-huh that's interesting well it sounds as th...</td>\n",
       "      <td>That information about graduation rates is int...</td>\n",
       "      <td>1</td>\n",
       "      <td>en</td>\n",
       "    </tr>\n",
       "    <tr>\n",
       "      <th>4</th>\n",
       "      <td>Some kind of instant recognition on his father...</td>\n",
       "      <td>Did his father recognize him?</td>\n",
       "      <td>1</td>\n",
       "      <td>en</td>\n",
       "    </tr>\n",
       "  </tbody>\n",
       "</table>\n",
       "</div>"
      ],
      "text/plain": [
       "                                             premise  \\\n",
       "0  At ground level, the asymmetrical cathedral is...   \n",
       "1  Hanuman is a beneficent deity predating classi...   \n",
       "2  All other spending as well as federal revenue ...   \n",
       "3  uh-huh that's interesting well it sounds as th...   \n",
       "4  Some kind of instant recognition on his father...   \n",
       "\n",
       "                                          hypothesis  gold_label language  \n",
       "0  It's hard to find a dramatic view of the cathe...           1       en  \n",
       "1  Hanuman declared that all the lemurs here need...           0       en  \n",
       "2    None of the federal spending is assumed to grow           0       en  \n",
       "3  That information about graduation rates is int...           1       en  \n",
       "4                      Did his father recognize him?           1       en  "
      ]
     },
     "execution_count": 188,
     "metadata": {},
     "output_type": "execute_result"
    }
   ],
   "source": [
    "train_extended.head()"
   ]
  },
  {
   "cell_type": "code",
   "execution_count": null,
   "id": "b63b6314",
   "metadata": {},
   "outputs": [],
   "source": []
  }
 ],
 "metadata": {
  "kernelspec": {
   "display_name": "Python 3 (ipykernel)",
   "language": "python",
   "name": "python3"
  },
  "language_info": {
   "codemirror_mode": {
    "name": "ipython",
    "version": 3
   },
   "file_extension": ".py",
   "mimetype": "text/x-python",
   "name": "python",
   "nbconvert_exporter": "python",
   "pygments_lexer": "ipython3",
   "version": "3.7.12"
  },
  "toc": {
   "base_numbering": 1,
   "nav_menu": {},
   "number_sections": true,
   "sideBar": true,
   "skip_h1_title": false,
   "title_cell": "Table of Contents",
   "title_sidebar": "Contents",
   "toc_cell": false,
   "toc_position": {},
   "toc_section_display": true,
   "toc_window_display": false
  }
 },
 "nbformat": 4,
 "nbformat_minor": 5
}
