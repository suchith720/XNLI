{
 "cells": [
  {
   "cell_type": "code",
   "execution_count": null,
   "id": "473ddd63",
   "metadata": {},
   "outputs": [],
   "source": [
    "%reload_ext autoreload\n",
    "%autoreload 2"
   ]
  },
  {
   "cell_type": "code",
   "execution_count": null,
   "id": "d0417fa6",
   "metadata": {},
   "outputs": [],
   "source": [
    "import torch\n",
    "import random\n",
    "import numpy as np\n",
    "import pandas as pd\n",
    "from tqdm.notebook import tqdm\n",
    "from torch.utils.data import Dataset\n",
    "from torch.utils.data import DataLoader"
   ]
  },
  {
   "cell_type": "code",
   "execution_count": null,
   "id": "056afcda",
   "metadata": {},
   "outputs": [],
   "source": [
    "device = torch.device('cuda' if torch.cuda.is_available() else 'cpu')"
   ]
  },
  {
   "cell_type": "code",
   "execution_count": null,
   "id": "ad9d9c08",
   "metadata": {},
   "outputs": [],
   "source": [
    "seed = 144\n",
    "random.seed(seed)\n",
    "np.random.seed(seed)\n",
    "torch.manual_seed(seed)\n",
    "torch.backends.cudnn.deterministic = True"
   ]
  },
  {
   "cell_type": "markdown",
   "id": "39fc4e2d",
   "metadata": {
    "heading_collapsed": true
   },
   "source": [
    "## Tokenizer"
   ]
  },
  {
   "cell_type": "code",
   "execution_count": null,
   "id": "f6326bd7",
   "metadata": {
    "hidden": true
   },
   "outputs": [],
   "source": [
    "from transformers import XLMRobertaTokenizer, XLMRobertaModel"
   ]
  },
  {
   "cell_type": "code",
   "execution_count": null,
   "id": "6fa29bea",
   "metadata": {
    "hidden": true
   },
   "outputs": [],
   "source": [
    "tokenizer = XLMRobertaTokenizer.from_pretrained(\"xlm-roberta-base\")"
   ]
  },
  {
   "cell_type": "code",
   "execution_count": 7,
   "id": "794af45f",
   "metadata": {
    "hidden": true
   },
   "outputs": [
    {
     "data": {
      "text/plain": [
       "['▁Hello', '▁', 'WORLD', '▁how', '▁', 'ARE', '▁yo', 'U', '?']"
      ]
     },
     "execution_count": 7,
     "metadata": {},
     "output_type": "execute_result"
    }
   ],
   "source": [
    "tokens = tokenizer.tokenize('Hello WORLD how ARE yoU?')\n",
    "tokens"
   ]
  },
  {
   "cell_type": "code",
   "execution_count": 10,
   "id": "b5ed142b",
   "metadata": {
    "hidden": true
   },
   "outputs": [
    {
     "data": {
      "text/plain": [
       "[35378, 6, 99972, 3642, 6, 23711, 3005, 1062, 32]"
      ]
     },
     "execution_count": 10,
     "metadata": {},
     "output_type": "execute_result"
    }
   ],
   "source": [
    "indexes = tokenizer.convert_tokens_to_ids(tokens)\n",
    "indexes"
   ]
  },
  {
   "cell_type": "code",
   "execution_count": 11,
   "id": "84ccc5c8",
   "metadata": {
    "hidden": true
   },
   "outputs": [
    {
     "name": "stdout",
     "output_type": "stream",
     "text": [
      "<s> </s> <pad> <unk>\n"
     ]
    }
   ],
   "source": [
    "init_token = tokenizer.cls_token\n",
    "eos_token = tokenizer.sep_token\n",
    "pad_token = tokenizer.pad_token\n",
    "unk_token = tokenizer.unk_token\n",
    "\n",
    "print(init_token, eos_token, pad_token, unk_token)"
   ]
  },
  {
   "cell_type": "code",
   "execution_count": 12,
   "id": "5c59a3b0",
   "metadata": {
    "hidden": true
   },
   "outputs": [
    {
     "name": "stdout",
     "output_type": "stream",
     "text": [
      "0 2 1 3\n"
     ]
    }
   ],
   "source": [
    "init_token_idx = tokenizer.convert_tokens_to_ids(init_token)\n",
    "eos_token_idx = tokenizer.convert_tokens_to_ids(eos_token)\n",
    "pad_token_idx = tokenizer.convert_tokens_to_ids(pad_token)\n",
    "unk_token_idx = tokenizer.convert_tokens_to_ids(unk_token)\n",
    "\n",
    "print(init_token_idx, eos_token_idx, pad_token_idx, unk_token_idx)"
   ]
  },
  {
   "cell_type": "code",
   "execution_count": 13,
   "id": "9fd0a2e5",
   "metadata": {
    "hidden": true
   },
   "outputs": [
    {
     "name": "stdout",
     "output_type": "stream",
     "text": [
      "0 2 1 3\n"
     ]
    }
   ],
   "source": [
    "init_token_idx = tokenizer.cls_token_id\n",
    "eos_token_idx = tokenizer.sep_token_id\n",
    "pad_token_idx = tokenizer.pad_token_id\n",
    "unk_token_idx = tokenizer.unk_token_id\n",
    "\n",
    "print(init_token_idx, eos_token_idx, pad_token_idx, unk_token_idx)"
   ]
  },
  {
   "cell_type": "code",
   "execution_count": 14,
   "id": "2c7f87bf",
   "metadata": {
    "hidden": true
   },
   "outputs": [
    {
     "name": "stdout",
     "output_type": "stream",
     "text": [
      "512\n"
     ]
    }
   ],
   "source": [
    "max_input_length = tokenizer.max_model_input_sizes['xlm-roberta-base']\n",
    "print(max_input_length)"
   ]
  },
  {
   "cell_type": "markdown",
   "id": "f70ffb5a",
   "metadata": {
    "heading_collapsed": true
   },
   "source": [
    "## Load data"
   ]
  },
  {
   "cell_type": "code",
   "execution_count": null,
   "id": "a18ffe9b",
   "metadata": {
    "hidden": true
   },
   "outputs": [],
   "source": [
    "from utils import io"
   ]
  },
  {
   "cell_type": "code",
   "execution_count": null,
   "id": "fe99901e",
   "metadata": {
    "hidden": true
   },
   "outputs": [],
   "source": [
    "train_file = \"data/train/train.tsv\"\n",
    "data, vocab = io.load_xnli_dataset(train_file)"
   ]
  },
  {
   "cell_type": "code",
   "execution_count": 9,
   "id": "fbe9c06f",
   "metadata": {
    "hidden": true
   },
   "outputs": [
    {
     "data": {
      "text/html": [
       "<div>\n",
       "<style scoped>\n",
       "    .dataframe tbody tr th:only-of-type {\n",
       "        vertical-align: middle;\n",
       "    }\n",
       "\n",
       "    .dataframe tbody tr th {\n",
       "        vertical-align: top;\n",
       "    }\n",
       "\n",
       "    .dataframe thead th {\n",
       "        text-align: right;\n",
       "    }\n",
       "</style>\n",
       "<table border=\"1\" class=\"dataframe\">\n",
       "  <thead>\n",
       "    <tr style=\"text-align: right;\">\n",
       "      <th></th>\n",
       "      <th>gold_label</th>\n",
       "      <th>premise</th>\n",
       "      <th>hypothesis</th>\n",
       "      <th>language</th>\n",
       "    </tr>\n",
       "  </thead>\n",
       "  <tbody>\n",
       "    <tr>\n",
       "      <th>0</th>\n",
       "      <td>neutral</td>\n",
       "      <td>At ground level, the asymmetrical cathedral is...</td>\n",
       "      <td>It's hard to find a dramatic view of the cathe...</td>\n",
       "      <td>en</td>\n",
       "    </tr>\n",
       "    <tr>\n",
       "      <th>1</th>\n",
       "      <td>contradiction</td>\n",
       "      <td>Hanuman is a beneficent deity predating classi...</td>\n",
       "      <td>Hanuman declared that all the lemurs here need...</td>\n",
       "      <td>en</td>\n",
       "    </tr>\n",
       "    <tr>\n",
       "      <th>2</th>\n",
       "      <td>contradiction</td>\n",
       "      <td>All other spending as well as federal revenue ...</td>\n",
       "      <td>None of the federal spending is assumed to grow</td>\n",
       "      <td>en</td>\n",
       "    </tr>\n",
       "    <tr>\n",
       "      <th>3</th>\n",
       "      <td>neutral</td>\n",
       "      <td>uh-huh that's interesting well it sounds as th...</td>\n",
       "      <td>That information about graduation rates is int...</td>\n",
       "      <td>en</td>\n",
       "    </tr>\n",
       "    <tr>\n",
       "      <th>4</th>\n",
       "      <td>neutral</td>\n",
       "      <td>Some kind of instant recognition on his father...</td>\n",
       "      <td>Did his father recognize him?</td>\n",
       "      <td>en</td>\n",
       "    </tr>\n",
       "  </tbody>\n",
       "</table>\n",
       "</div>"
      ],
      "text/plain": [
       "      gold_label                                            premise  \\\n",
       "0        neutral  At ground level, the asymmetrical cathedral is...   \n",
       "1  contradiction  Hanuman is a beneficent deity predating classi...   \n",
       "2  contradiction  All other spending as well as federal revenue ...   \n",
       "3        neutral  uh-huh that's interesting well it sounds as th...   \n",
       "4        neutral  Some kind of instant recognition on his father...   \n",
       "\n",
       "                                          hypothesis language  \n",
       "0  It's hard to find a dramatic view of the cathe...       en  \n",
       "1  Hanuman declared that all the lemurs here need...       en  \n",
       "2    None of the federal spending is assumed to grow       en  \n",
       "3  That information about graduation rates is int...       en  \n",
       "4                      Did his father recognize him?       en  "
      ]
     },
     "execution_count": 9,
     "metadata": {},
     "output_type": "execute_result"
    }
   ],
   "source": [
    "data.head()"
   ]
  },
  {
   "cell_type": "code",
   "execution_count": 10,
   "id": "ec8da297",
   "metadata": {
    "hidden": true
   },
   "outputs": [],
   "source": [
    "train_data, valid_data, test_data = io.split_dataset(data)"
   ]
  },
  {
   "cell_type": "code",
   "execution_count": 12,
   "id": "8d774ee5",
   "metadata": {
    "hidden": true
   },
   "outputs": [
    {
     "data": {
      "text/html": [
       "<div>\n",
       "<style scoped>\n",
       "    .dataframe tbody tr th:only-of-type {\n",
       "        vertical-align: middle;\n",
       "    }\n",
       "\n",
       "    .dataframe tbody tr th {\n",
       "        vertical-align: top;\n",
       "    }\n",
       "\n",
       "    .dataframe thead th {\n",
       "        text-align: right;\n",
       "    }\n",
       "</style>\n",
       "<table border=\"1\" class=\"dataframe\">\n",
       "  <thead>\n",
       "    <tr style=\"text-align: right;\">\n",
       "      <th></th>\n",
       "      <th>gold_label</th>\n",
       "      <th>premise</th>\n",
       "      <th>hypothesis</th>\n",
       "      <th>language</th>\n",
       "    </tr>\n",
       "  </thead>\n",
       "  <tbody>\n",
       "    <tr>\n",
       "      <th>0</th>\n",
       "      <td>neutral</td>\n",
       "      <td>At ground level, the asymmetrical cathedral is...</td>\n",
       "      <td>It's hard to find a dramatic view of the cathe...</td>\n",
       "      <td>en</td>\n",
       "    </tr>\n",
       "    <tr>\n",
       "      <th>1</th>\n",
       "      <td>contradiction</td>\n",
       "      <td>Hanuman is a beneficent deity predating classi...</td>\n",
       "      <td>Hanuman declared that all the lemurs here need...</td>\n",
       "      <td>en</td>\n",
       "    </tr>\n",
       "    <tr>\n",
       "      <th>2</th>\n",
       "      <td>contradiction</td>\n",
       "      <td>All other spending as well as federal revenue ...</td>\n",
       "      <td>None of the federal spending is assumed to grow</td>\n",
       "      <td>en</td>\n",
       "    </tr>\n",
       "    <tr>\n",
       "      <th>3</th>\n",
       "      <td>neutral</td>\n",
       "      <td>uh-huh that's interesting well it sounds as th...</td>\n",
       "      <td>That information about graduation rates is int...</td>\n",
       "      <td>en</td>\n",
       "    </tr>\n",
       "    <tr>\n",
       "      <th>4</th>\n",
       "      <td>neutral</td>\n",
       "      <td>Some kind of instant recognition on his father...</td>\n",
       "      <td>Did his father recognize him?</td>\n",
       "      <td>en</td>\n",
       "    </tr>\n",
       "  </tbody>\n",
       "</table>\n",
       "</div>"
      ],
      "text/plain": [
       "      gold_label                                            premise  \\\n",
       "0        neutral  At ground level, the asymmetrical cathedral is...   \n",
       "1  contradiction  Hanuman is a beneficent deity predating classi...   \n",
       "2  contradiction  All other spending as well as federal revenue ...   \n",
       "3        neutral  uh-huh that's interesting well it sounds as th...   \n",
       "4        neutral  Some kind of instant recognition on his father...   \n",
       "\n",
       "                                          hypothesis language  \n",
       "0  It's hard to find a dramatic view of the cathe...       en  \n",
       "1  Hanuman declared that all the lemurs here need...       en  \n",
       "2    None of the federal spending is assumed to grow       en  \n",
       "3  That information about graduation rates is int...       en  \n",
       "4                      Did his father recognize him?       en  "
      ]
     },
     "execution_count": 12,
     "metadata": {},
     "output_type": "execute_result"
    }
   ],
   "source": [
    "train_data.head()"
   ]
  },
  {
   "cell_type": "code",
   "execution_count": 23,
   "id": "7e5a990c",
   "metadata": {
    "hidden": true
   },
   "outputs": [
    {
     "data": {
      "text/html": [
       "<div>\n",
       "<style scoped>\n",
       "    .dataframe tbody tr th:only-of-type {\n",
       "        vertical-align: middle;\n",
       "    }\n",
       "\n",
       "    .dataframe tbody tr th {\n",
       "        vertical-align: top;\n",
       "    }\n",
       "\n",
       "    .dataframe thead th {\n",
       "        text-align: right;\n",
       "    }\n",
       "</style>\n",
       "<table border=\"1\" class=\"dataframe\">\n",
       "  <thead>\n",
       "    <tr style=\"text-align: right;\">\n",
       "      <th></th>\n",
       "      <th>gold_label</th>\n",
       "      <th>premise</th>\n",
       "      <th>hypothesis</th>\n",
       "      <th>language</th>\n",
       "    </tr>\n",
       "  </thead>\n",
       "  <tbody>\n",
       "    <tr>\n",
       "      <th>0</th>\n",
       "      <td>entailment</td>\n",
       "      <td>yeah see i come from a Catholic church backgro...</td>\n",
       "      <td>I was raised with the Catholic church.</td>\n",
       "      <td>en</td>\n",
       "    </tr>\n",
       "    <tr>\n",
       "      <th>1</th>\n",
       "      <td>neutral</td>\n",
       "      <td>The best case of the agency is best (everyone ...</td>\n",
       "      <td>The best case of the agency is when everyone i...</td>\n",
       "      <td>en</td>\n",
       "    </tr>\n",
       "    <tr>\n",
       "      <th>2</th>\n",
       "      <td>neutral</td>\n",
       "      <td>Walk right in.</td>\n",
       "      <td>Do not hesitate to get in.</td>\n",
       "      <td>en</td>\n",
       "    </tr>\n",
       "    <tr>\n",
       "      <th>3</th>\n",
       "      <td>entailment</td>\n",
       "      <td>You're sure to slip up sooner or later.</td>\n",
       "      <td>You'll make a mistake at some point.</td>\n",
       "      <td>en</td>\n",
       "    </tr>\n",
       "    <tr>\n",
       "      <th>4</th>\n",
       "      <td>neutral</td>\n",
       "      <td>We requested comments from BEA, OMB, and sever...</td>\n",
       "      <td>Comments from professors were important</td>\n",
       "      <td>en</td>\n",
       "    </tr>\n",
       "  </tbody>\n",
       "</table>\n",
       "</div>"
      ],
      "text/plain": [
       "   gold_label                                            premise  \\\n",
       "0  entailment  yeah see i come from a Catholic church backgro...   \n",
       "1     neutral  The best case of the agency is best (everyone ...   \n",
       "2     neutral                                     Walk right in.   \n",
       "3  entailment            You're sure to slip up sooner or later.   \n",
       "4     neutral  We requested comments from BEA, OMB, and sever...   \n",
       "\n",
       "                                          hypothesis language  \n",
       "0             I was raised with the Catholic church.       en  \n",
       "1  The best case of the agency is when everyone i...       en  \n",
       "2                         Do not hesitate to get in.       en  \n",
       "3               You'll make a mistake at some point.       en  \n",
       "4           Comments from professors were important        en  "
      ]
     },
     "execution_count": 23,
     "metadata": {},
     "output_type": "execute_result"
    }
   ],
   "source": [
    "valid_data.head()"
   ]
  },
  {
   "cell_type": "code",
   "execution_count": 24,
   "id": "0a814150",
   "metadata": {
    "hidden": true
   },
   "outputs": [
    {
     "data": {
      "text/html": [
       "<div>\n",
       "<style scoped>\n",
       "    .dataframe tbody tr th:only-of-type {\n",
       "        vertical-align: middle;\n",
       "    }\n",
       "\n",
       "    .dataframe tbody tr th {\n",
       "        vertical-align: top;\n",
       "    }\n",
       "\n",
       "    .dataframe thead th {\n",
       "        text-align: right;\n",
       "    }\n",
       "</style>\n",
       "<table border=\"1\" class=\"dataframe\">\n",
       "  <thead>\n",
       "    <tr style=\"text-align: right;\">\n",
       "      <th></th>\n",
       "      <th>gold_label</th>\n",
       "      <th>premise</th>\n",
       "      <th>hypothesis</th>\n",
       "      <th>language</th>\n",
       "    </tr>\n",
       "  </thead>\n",
       "  <tbody>\n",
       "    <tr>\n",
       "      <th>0</th>\n",
       "      <td>neutral</td>\n",
       "      <td>Equal thrills can be had atop the Stratosphere...</td>\n",
       "      <td>You can have a lot of thrills on top of the St...</td>\n",
       "      <td>en</td>\n",
       "    </tr>\n",
       "    <tr>\n",
       "      <th>1</th>\n",
       "      <td>contradiction</td>\n",
       "      <td>Table 6 shows various Cpk values and the defec...</td>\n",
       "      <td>Table 6 does not show any Cpk values and assoc...</td>\n",
       "      <td>en</td>\n",
       "    </tr>\n",
       "    <tr>\n",
       "      <th>2</th>\n",
       "      <td>contradiction</td>\n",
       "      <td>As in centuries past, people go on mass pilgri...</td>\n",
       "      <td>The cherry blossoms are not popular in Japan.</td>\n",
       "      <td>en</td>\n",
       "    </tr>\n",
       "    <tr>\n",
       "      <th>3</th>\n",
       "      <td>neutral</td>\n",
       "      <td>For example, the American Institute of Certifi...</td>\n",
       "      <td>The AICPA standard promotes consistency throug...</td>\n",
       "      <td>en</td>\n",
       "    </tr>\n",
       "    <tr>\n",
       "      <th>4</th>\n",
       "      <td>neutral</td>\n",
       "      <td>An article says Republicans gave Al Gore a pot...</td>\n",
       "      <td>An article in the NYT says Republicans gave Al...</td>\n",
       "      <td>en</td>\n",
       "    </tr>\n",
       "  </tbody>\n",
       "</table>\n",
       "</div>"
      ],
      "text/plain": [
       "      gold_label                                            premise  \\\n",
       "0        neutral  Equal thrills can be had atop the Stratosphere...   \n",
       "1  contradiction  Table 6 shows various Cpk values and the defec...   \n",
       "2  contradiction  As in centuries past, people go on mass pilgri...   \n",
       "3        neutral  For example, the American Institute of Certifi...   \n",
       "4        neutral  An article says Republicans gave Al Gore a pot...   \n",
       "\n",
       "                                          hypothesis language  \n",
       "0  You can have a lot of thrills on top of the St...       en  \n",
       "1  Table 6 does not show any Cpk values and assoc...       en  \n",
       "2      The cherry blossoms are not popular in Japan.       en  \n",
       "3  The AICPA standard promotes consistency throug...       en  \n",
       "4  An article in the NYT says Republicans gave Al...       en  "
      ]
     },
     "execution_count": 24,
     "metadata": {},
     "output_type": "execute_result"
    }
   ],
   "source": [
    "test_data.head()"
   ]
  },
  {
   "cell_type": "code",
   "execution_count": 11,
   "id": "b4130312",
   "metadata": {
    "hidden": true
   },
   "outputs": [
    {
     "name": "stdout",
     "output_type": "stream",
     "text": [
      "Training data   : (80484, 4)\n",
      "Validation data : (17246, 4)\n",
      "Testing data    : (17248, 4)\n"
     ]
    }
   ],
   "source": [
    "print(f'Training data   : {train_data.shape}')\n",
    "print(f'Validation data : {valid_data.shape}') \n",
    "print(f'Testing data    : {test_data.shape}')"
   ]
  },
  {
   "cell_type": "markdown",
   "id": "b36fe977",
   "metadata": {},
   "source": [
    "## Dataloader"
   ]
  },
  {
   "cell_type": "code",
   "execution_count": 12,
   "id": "33b0e070",
   "metadata": {},
   "outputs": [],
   "source": [
    "from model import xlmr_xnli_model\n",
    "from model import xlmr_xnli_dataset"
   ]
  },
  {
   "cell_type": "code",
   "execution_count": 13,
   "id": "b4681578",
   "metadata": {},
   "outputs": [],
   "source": [
    "train_dataset = xlmr_xnli_dataset.XLMRXNLIDataset(train_data, tokenizer, device)\n",
    "valid_dataset = xlmr_xnli_dataset.XLMRXNLIDataset(valid_data, tokenizer, device)"
   ]
  },
  {
   "cell_type": "code",
   "execution_count": 14,
   "id": "09efdded",
   "metadata": {},
   "outputs": [],
   "source": [
    "batch_size = 32"
   ]
  },
  {
   "cell_type": "code",
   "execution_count": 15,
   "id": "de67854b",
   "metadata": {},
   "outputs": [],
   "source": [
    "train_dataloader = DataLoader(\n",
    "        train_dataset, \n",
    "        batch_size=batch_size,\n",
    "        drop_last=False,\n",
    "        num_workers=0,\n",
    "        shuffle=True,\n",
    "        #collate_fn=tokenizer.pad\n",
    "    )\n",
    "\n",
    "valid_dataloader = DataLoader(\n",
    "        valid_dataset, \n",
    "        batch_size=batch_size,\n",
    "        drop_last=False,\n",
    "        num_workers=0,\n",
    "        shuffle=True,\n",
    "        #collate_fn=tokenizer.pad\n",
    "    )"
   ]
  },
  {
   "cell_type": "code",
   "execution_count": 16,
   "id": "72faaf66",
   "metadata": {},
   "outputs": [],
   "source": [
    "batch = next(iter(train_dataloader))"
   ]
  },
  {
   "cell_type": "markdown",
   "id": "8918cbb1",
   "metadata": {},
   "source": [
    "## Model"
   ]
  },
  {
   "cell_type": "code",
   "execution_count": 17,
   "id": "7f869fc4",
   "metadata": {},
   "outputs": [
    {
     "name": "stderr",
     "output_type": "stream",
     "text": [
      "Some weights of the model checkpoint at xlm-roberta-base were not used when initializing XLMRobertaModel: ['lm_head.bias', 'lm_head.layer_norm.weight', 'lm_head.dense.bias', 'lm_head.dense.weight', 'lm_head.decoder.weight', 'lm_head.layer_norm.bias']\n",
      "- This IS expected if you are initializing XLMRobertaModel from the checkpoint of a model trained on another task or with another architecture (e.g. initializing a BertForSequenceClassification model from a BertForPreTraining model).\n",
      "- This IS NOT expected if you are initializing XLMRobertaModel from the checkpoint of a model that you expect to be exactly identical (initializing a BertForSequenceClassification model from a BertForSequenceClassification model).\n"
     ]
    }
   ],
   "source": [
    "model = XLMRobertaModel.from_pretrained(\"xlm-roberta-base\")"
   ]
  },
  {
   "cell_type": "code",
   "execution_count": 18,
   "id": "a1bd6713",
   "metadata": {},
   "outputs": [],
   "source": [
    "model_params = {'model': model, \n",
    "                'device': device, \n",
    "                'layers': [1024, 512, 256, 3]}"
   ]
  },
  {
   "cell_type": "code",
   "execution_count": 19,
   "id": "3f6748f7",
   "metadata": {},
   "outputs": [],
   "source": [
    "xnli_model = xlmr_xnli_model.XLMRXLNIModel(**model_params)"
   ]
  },
  {
   "cell_type": "markdown",
   "id": "17784979",
   "metadata": {},
   "source": [
    "## Training"
   ]
  },
  {
   "cell_type": "code",
   "execution_count": 20,
   "id": "409bc214",
   "metadata": {},
   "outputs": [],
   "source": [
    "from utils import plot\n",
    "from utils import metric\n",
    "from model import train_evaluate"
   ]
  },
  {
   "cell_type": "code",
   "execution_count": 21,
   "id": "5e149746",
   "metadata": {},
   "outputs": [],
   "source": [
    "metric_params = {\n",
    "    'accuracy': metric.accuracy, \n",
    "    'macro_f1': metric.macro_f1, \n",
    "    'average_f1': metric.average_f1\n",
    "}"
   ]
  },
  {
   "cell_type": "code",
   "execution_count": 22,
   "id": "11b72999",
   "metadata": {},
   "outputs": [],
   "source": [
    "train_params_base = {\n",
    "    'num_epochs': 10,\n",
    "    'step_size': 3,\n",
    "    'gamma': 0.1,\n",
    "    'lr': 1e-3,\n",
    "    'betas': (0.9, 0.999),\n",
    "    'lrs': [1e-5, 1e-3],\n",
    "    'weight_decay': 0,\n",
    "    'save_dir':'experiments/LinearHead/',\n",
    "    'save_tag':'',\n",
    "    'verbose': True,\n",
    "    'restore_file': None, #last, best\n",
    "    'tensorboard_dir': 'runs/LinearHead/'\n",
    "}"
   ]
  },
  {
   "cell_type": "code",
   "execution_count": 23,
   "id": "ae6eff0b",
   "metadata": {},
   "outputs": [],
   "source": [
    "train_params = io.setup_training(train_params_base, model_params, vocab)"
   ]
  },
  {
   "cell_type": "code",
   "execution_count": 24,
   "id": "4b0488a4",
   "metadata": {},
   "outputs": [
    {
     "data": {
      "text/plain": [
       "{'num_epochs': 10,\n",
       " 'step_size': 3,\n",
       " 'gamma': 0.1,\n",
       " 'lr': 0.001,\n",
       " 'betas': (0.9, 0.999),\n",
       " 'lrs': [1e-05, 0.001],\n",
       " 'weight_decay': 0,\n",
       " 'save_dir': 'experiments/LinearHead//R_003/',\n",
       " 'save_tag': '_003',\n",
       " 'verbose': True,\n",
       " 'restore_file': None,\n",
       " 'tensorboard_dir': 'runs/LinearHead//R_003'}"
      ]
     },
     "execution_count": 24,
     "metadata": {},
     "output_type": "execute_result"
    }
   ],
   "source": [
    "train_params"
   ]
  },
  {
   "cell_type": "code",
   "execution_count": 25,
   "id": "d89f9536",
   "metadata": {},
   "outputs": [],
   "source": [
    "xnli_model.freeze_layer()"
   ]
  },
  {
   "cell_type": "code",
   "execution_count": 26,
   "id": "bad0c046",
   "metadata": {
    "scrolled": true
   },
   "outputs": [
    {
     "data": {
      "application/vnd.jupyter.widget-view+json": {
       "model_id": "4df0bf27725b4c61a68c99291f84988f",
       "version_major": 2,
       "version_minor": 0
      },
      "text/plain": [
       "  0%|          | 0/10 [00:00<?, ?it/s]"
      ]
     },
     "metadata": {},
     "output_type": "display_data"
    },
    {
     "name": "stderr",
     "output_type": "stream",
     "text": [
      "INFO: Epoch 1/10\n"
     ]
    },
    {
     "data": {
      "application/vnd.jupyter.widget-view+json": {
       "model_id": "40f03e54bd6e42af999f33f922e2e623",
       "version_major": 2,
       "version_minor": 0
      },
      "text/plain": [
       "  0%|          | 0/2516 [00:00<?, ?it/s]"
      ]
     },
     "metadata": {},
     "output_type": "display_data"
    },
    {
     "data": {
      "application/vnd.jupyter.widget-view+json": {
       "model_id": "9f52db7b35c94baa95eebd731096403a",
       "version_major": 2,
       "version_minor": 0
      },
      "text/plain": [
       "  0%|          | 0/539 [00:00<?, ?it/s]"
      ]
     },
     "metadata": {},
     "output_type": "display_data"
    },
    {
     "name": "stderr",
     "output_type": "stream",
     "text": [
      "INFO: - Found new best accuracy.\n"
     ]
    },
    {
     "data": {
      "text/html": [
       "<div>\n",
       "<style scoped>\n",
       "    .dataframe tbody tr th:only-of-type {\n",
       "        vertical-align: middle;\n",
       "    }\n",
       "\n",
       "    .dataframe tbody tr th {\n",
       "        vertical-align: top;\n",
       "    }\n",
       "\n",
       "    .dataframe thead tr th {\n",
       "        text-align: left;\n",
       "    }\n",
       "</style>\n",
       "<table border=\"1\" class=\"dataframe\">\n",
       "  <thead>\n",
       "    <tr>\n",
       "      <th></th>\n",
       "      <th colspan=\"5\" halign=\"left\">Training</th>\n",
       "      <th colspan=\"5\" halign=\"left\">Validation</th>\n",
       "    </tr>\n",
       "    <tr>\n",
       "      <th></th>\n",
       "      <th>Average f1</th>\n",
       "      <th>Loss</th>\n",
       "      <th>Macro f1</th>\n",
       "      <th>Micro f1</th>\n",
       "      <th>Time (secs)</th>\n",
       "      <th>Average f1</th>\n",
       "      <th>Loss</th>\n",
       "      <th>Macro f1</th>\n",
       "      <th>Micro f1</th>\n",
       "      <th>Time (secs)</th>\n",
       "    </tr>\n",
       "  </thead>\n",
       "  <tbody>\n",
       "    <tr>\n",
       "      <th>1</th>\n",
       "      <td>0.411671</td>\n",
       "      <td>1.029472</td>\n",
       "      <td>0.39343</td>\n",
       "      <td>0.429912</td>\n",
       "      <td>1652.94424</td>\n",
       "      <td>0.67943</td>\n",
       "      <td>0.750433</td>\n",
       "      <td>0.679108</td>\n",
       "      <td>0.679752</td>\n",
       "      <td>101.441507</td>\n",
       "    </tr>\n",
       "  </tbody>\n",
       "</table>\n",
       "</div>"
      ],
      "text/plain": [
       "    Training                                          Validation            \\\n",
       "  Average f1      Loss Macro f1  Micro f1 Time (secs) Average f1      Loss   \n",
       "1   0.411671  1.029472  0.39343  0.429912  1652.94424    0.67943  0.750433   \n",
       "\n",
       "                                   \n",
       "   Macro f1  Micro f1 Time (secs)  \n",
       "1  0.679108  0.679752  101.441507  "
      ]
     },
     "metadata": {},
     "output_type": "display_data"
    },
    {
     "name": "stderr",
     "output_type": "stream",
     "text": [
      "INFO: Epoch 2/10\n"
     ]
    },
    {
     "data": {
      "application/vnd.jupyter.widget-view+json": {
       "model_id": "52b546c21f30413fb0018c396ba08743",
       "version_major": 2,
       "version_minor": 0
      },
      "text/plain": [
       "  0%|          | 0/2516 [00:00<?, ?it/s]"
      ]
     },
     "metadata": {},
     "output_type": "display_data"
    },
    {
     "data": {
      "application/vnd.jupyter.widget-view+json": {
       "model_id": "c72f83c81e6c49878f2d277324ac0ba9",
       "version_major": 2,
       "version_minor": 0
      },
      "text/plain": [
       "  0%|          | 0/539 [00:00<?, ?it/s]"
      ]
     },
     "metadata": {},
     "output_type": "display_data"
    },
    {
     "name": "stderr",
     "output_type": "stream",
     "text": [
      "INFO: - Found new best accuracy.\n"
     ]
    },
    {
     "data": {
      "text/html": [
       "<div>\n",
       "<style scoped>\n",
       "    .dataframe tbody tr th:only-of-type {\n",
       "        vertical-align: middle;\n",
       "    }\n",
       "\n",
       "    .dataframe tbody tr th {\n",
       "        vertical-align: top;\n",
       "    }\n",
       "\n",
       "    .dataframe thead tr th {\n",
       "        text-align: left;\n",
       "    }\n",
       "</style>\n",
       "<table border=\"1\" class=\"dataframe\">\n",
       "  <thead>\n",
       "    <tr>\n",
       "      <th></th>\n",
       "      <th colspan=\"5\" halign=\"left\">Training</th>\n",
       "      <th colspan=\"5\" halign=\"left\">Validation</th>\n",
       "    </tr>\n",
       "    <tr>\n",
       "      <th></th>\n",
       "      <th>Average f1</th>\n",
       "      <th>Loss</th>\n",
       "      <th>Macro f1</th>\n",
       "      <th>Micro f1</th>\n",
       "      <th>Time (secs)</th>\n",
       "      <th>Average f1</th>\n",
       "      <th>Loss</th>\n",
       "      <th>Macro f1</th>\n",
       "      <th>Micro f1</th>\n",
       "      <th>Time (secs)</th>\n",
       "    </tr>\n",
       "  </thead>\n",
       "  <tbody>\n",
       "    <tr>\n",
       "      <th>2</th>\n",
       "      <td>0.715598</td>\n",
       "      <td>0.704089</td>\n",
       "      <td>0.714668</td>\n",
       "      <td>0.716528</td>\n",
       "      <td>1644.716308</td>\n",
       "      <td>0.780608</td>\n",
       "      <td>0.554938</td>\n",
       "      <td>0.779876</td>\n",
       "      <td>0.781341</td>\n",
       "      <td>101.581599</td>\n",
       "    </tr>\n",
       "  </tbody>\n",
       "</table>\n",
       "</div>"
      ],
      "text/plain": [
       "    Training                                            Validation            \\\n",
       "  Average f1      Loss  Macro f1  Micro f1  Time (secs) Average f1      Loss   \n",
       "2   0.715598  0.704089  0.714668  0.716528  1644.716308   0.780608  0.554938   \n",
       "\n",
       "                                   \n",
       "   Macro f1  Micro f1 Time (secs)  \n",
       "2  0.779876  0.781341  101.581599  "
      ]
     },
     "metadata": {},
     "output_type": "display_data"
    },
    {
     "name": "stderr",
     "output_type": "stream",
     "text": [
      "INFO: Epoch 3/10\n"
     ]
    },
    {
     "data": {
      "application/vnd.jupyter.widget-view+json": {
       "model_id": "83319579cd194456a75ac5e818ba0efc",
       "version_major": 2,
       "version_minor": 0
      },
      "text/plain": [
       "  0%|          | 0/2516 [00:00<?, ?it/s]"
      ]
     },
     "metadata": {},
     "output_type": "display_data"
    },
    {
     "data": {
      "application/vnd.jupyter.widget-view+json": {
       "model_id": "d09798e6fd3142bfb3b579269b01a710",
       "version_major": 2,
       "version_minor": 0
      },
      "text/plain": [
       "  0%|          | 0/539 [00:00<?, ?it/s]"
      ]
     },
     "metadata": {},
     "output_type": "display_data"
    },
    {
     "name": "stderr",
     "output_type": "stream",
     "text": [
      "INFO: - Found new best accuracy.\n"
     ]
    },
    {
     "data": {
      "text/html": [
       "<div>\n",
       "<style scoped>\n",
       "    .dataframe tbody tr th:only-of-type {\n",
       "        vertical-align: middle;\n",
       "    }\n",
       "\n",
       "    .dataframe tbody tr th {\n",
       "        vertical-align: top;\n",
       "    }\n",
       "\n",
       "    .dataframe thead tr th {\n",
       "        text-align: left;\n",
       "    }\n",
       "</style>\n",
       "<table border=\"1\" class=\"dataframe\">\n",
       "  <thead>\n",
       "    <tr>\n",
       "      <th></th>\n",
       "      <th colspan=\"5\" halign=\"left\">Training</th>\n",
       "      <th colspan=\"5\" halign=\"left\">Validation</th>\n",
       "    </tr>\n",
       "    <tr>\n",
       "      <th></th>\n",
       "      <th>Average f1</th>\n",
       "      <th>Loss</th>\n",
       "      <th>Macro f1</th>\n",
       "      <th>Micro f1</th>\n",
       "      <th>Time (secs)</th>\n",
       "      <th>Average f1</th>\n",
       "      <th>Loss</th>\n",
       "      <th>Macro f1</th>\n",
       "      <th>Micro f1</th>\n",
       "      <th>Time (secs)</th>\n",
       "    </tr>\n",
       "  </thead>\n",
       "  <tbody>\n",
       "    <tr>\n",
       "      <th>3</th>\n",
       "      <td>0.783559</td>\n",
       "      <td>0.571363</td>\n",
       "      <td>0.782564</td>\n",
       "      <td>0.784553</td>\n",
       "      <td>1646.02914</td>\n",
       "      <td>0.797664</td>\n",
       "      <td>0.526884</td>\n",
       "      <td>0.797288</td>\n",
       "      <td>0.79804</td>\n",
       "      <td>101.767623</td>\n",
       "    </tr>\n",
       "  </tbody>\n",
       "</table>\n",
       "</div>"
      ],
      "text/plain": [
       "    Training                                           Validation            \\\n",
       "  Average f1      Loss  Macro f1  Micro f1 Time (secs) Average f1      Loss   \n",
       "3   0.783559  0.571363  0.782564  0.784553  1646.02914   0.797664  0.526884   \n",
       "\n",
       "                                  \n",
       "   Macro f1 Micro f1 Time (secs)  \n",
       "3  0.797288  0.79804  101.767623  "
      ]
     },
     "metadata": {},
     "output_type": "display_data"
    },
    {
     "name": "stderr",
     "output_type": "stream",
     "text": [
      "INFO: Epoch 4/10\n"
     ]
    },
    {
     "data": {
      "application/vnd.jupyter.widget-view+json": {
       "model_id": "a8c8ad1fc496439b91772e07903d3255",
       "version_major": 2,
       "version_minor": 0
      },
      "text/plain": [
       "  0%|          | 0/2516 [00:00<?, ?it/s]"
      ]
     },
     "metadata": {},
     "output_type": "display_data"
    },
    {
     "data": {
      "application/vnd.jupyter.widget-view+json": {
       "model_id": "0d8dd4b0aa1d4575ba06fda6b4213d01",
       "version_major": 2,
       "version_minor": 0
      },
      "text/plain": [
       "  0%|          | 0/539 [00:00<?, ?it/s]"
      ]
     },
     "metadata": {},
     "output_type": "display_data"
    },
    {
     "name": "stderr",
     "output_type": "stream",
     "text": [
      "INFO: - Found new best accuracy.\n"
     ]
    },
    {
     "data": {
      "text/html": [
       "<div>\n",
       "<style scoped>\n",
       "    .dataframe tbody tr th:only-of-type {\n",
       "        vertical-align: middle;\n",
       "    }\n",
       "\n",
       "    .dataframe tbody tr th {\n",
       "        vertical-align: top;\n",
       "    }\n",
       "\n",
       "    .dataframe thead tr th {\n",
       "        text-align: left;\n",
       "    }\n",
       "</style>\n",
       "<table border=\"1\" class=\"dataframe\">\n",
       "  <thead>\n",
       "    <tr>\n",
       "      <th></th>\n",
       "      <th colspan=\"5\" halign=\"left\">Training</th>\n",
       "      <th colspan=\"5\" halign=\"left\">Validation</th>\n",
       "    </tr>\n",
       "    <tr>\n",
       "      <th></th>\n",
       "      <th>Average f1</th>\n",
       "      <th>Loss</th>\n",
       "      <th>Macro f1</th>\n",
       "      <th>Micro f1</th>\n",
       "      <th>Time (secs)</th>\n",
       "      <th>Average f1</th>\n",
       "      <th>Loss</th>\n",
       "      <th>Macro f1</th>\n",
       "      <th>Micro f1</th>\n",
       "      <th>Time (secs)</th>\n",
       "    </tr>\n",
       "  </thead>\n",
       "  <tbody>\n",
       "    <tr>\n",
       "      <th>4</th>\n",
       "      <td>0.832899</td>\n",
       "      <td>0.453013</td>\n",
       "      <td>0.832116</td>\n",
       "      <td>0.833681</td>\n",
       "      <td>1646.447467</td>\n",
       "      <td>0.799917</td>\n",
       "      <td>0.51358</td>\n",
       "      <td>0.79988</td>\n",
       "      <td>0.799954</td>\n",
       "      <td>101.931465</td>\n",
       "    </tr>\n",
       "  </tbody>\n",
       "</table>\n",
       "</div>"
      ],
      "text/plain": [
       "    Training                                            Validation           \\\n",
       "  Average f1      Loss  Macro f1  Micro f1  Time (secs) Average f1     Loss   \n",
       "4   0.832899  0.453013  0.832116  0.833681  1646.447467   0.799917  0.51358   \n",
       "\n",
       "                                  \n",
       "  Macro f1  Micro f1 Time (secs)  \n",
       "4  0.79988  0.799954  101.931465  "
      ]
     },
     "metadata": {},
     "output_type": "display_data"
    },
    {
     "name": "stderr",
     "output_type": "stream",
     "text": [
      "INFO: Epoch 5/10\n"
     ]
    },
    {
     "data": {
      "application/vnd.jupyter.widget-view+json": {
       "model_id": "c4e6008a0a8b46c3bb465913fc510dee",
       "version_major": 2,
       "version_minor": 0
      },
      "text/plain": [
       "  0%|          | 0/2516 [00:00<?, ?it/s]"
      ]
     },
     "metadata": {},
     "output_type": "display_data"
    },
    {
     "name": "stderr",
     "output_type": "stream",
     "text": [
      "IOPub message rate exceeded.\n",
      "The notebook server will temporarily stop sending output\n",
      "to the client in order to avoid crashing it.\n",
      "To change this limit, set the config variable\n",
      "`--NotebookApp.iopub_msg_rate_limit`.\n",
      "\n",
      "Current values:\n",
      "NotebookApp.iopub_msg_rate_limit=1000.0 (msgs/sec)\n",
      "NotebookApp.rate_limit_window=3.0 (secs)\n",
      "\n",
      "IOPub message rate exceeded.\n",
      "The notebook server will temporarily stop sending output\n",
      "to the client in order to avoid crashing it.\n",
      "To change this limit, set the config variable\n",
      "`--NotebookApp.iopub_msg_rate_limit`.\n",
      "\n",
      "Current values:\n",
      "NotebookApp.iopub_msg_rate_limit=1000.0 (msgs/sec)\n",
      "NotebookApp.rate_limit_window=3.0 (secs)\n",
      "\n",
      "IOPub message rate exceeded.\n",
      "The notebook server will temporarily stop sending output\n",
      "to the client in order to avoid crashing it.\n",
      "To change this limit, set the config variable\n",
      "`--NotebookApp.iopub_msg_rate_limit`.\n",
      "\n",
      "Current values:\n",
      "NotebookApp.iopub_msg_rate_limit=1000.0 (msgs/sec)\n",
      "NotebookApp.rate_limit_window=3.0 (secs)\n",
      "\n"
     ]
    },
    {
     "data": {
      "application/vnd.jupyter.widget-view+json": {
       "model_id": "c0342393b2514e3f9801310fe3bb7401",
       "version_major": 2,
       "version_minor": 0
      },
      "text/plain": [
       "  0%|          | 0/539 [00:00<?, ?it/s]"
      ]
     },
     "metadata": {},
     "output_type": "display_data"
    },
    {
     "name": "stderr",
     "output_type": "stream",
     "text": [
      "INFO: - Found new best accuracy.\n"
     ]
    },
    {
     "data": {
      "text/html": [
       "<div>\n",
       "<style scoped>\n",
       "    .dataframe tbody tr th:only-of-type {\n",
       "        vertical-align: middle;\n",
       "    }\n",
       "\n",
       "    .dataframe tbody tr th {\n",
       "        vertical-align: top;\n",
       "    }\n",
       "\n",
       "    .dataframe thead tr th {\n",
       "        text-align: left;\n",
       "    }\n",
       "</style>\n",
       "<table border=\"1\" class=\"dataframe\">\n",
       "  <thead>\n",
       "    <tr>\n",
       "      <th></th>\n",
       "      <th colspan=\"5\" halign=\"left\">Training</th>\n",
       "      <th colspan=\"5\" halign=\"left\">Validation</th>\n",
       "    </tr>\n",
       "    <tr>\n",
       "      <th></th>\n",
       "      <th>Average f1</th>\n",
       "      <th>Loss</th>\n",
       "      <th>Macro f1</th>\n",
       "      <th>Micro f1</th>\n",
       "      <th>Time (secs)</th>\n",
       "      <th>Average f1</th>\n",
       "      <th>Loss</th>\n",
       "      <th>Macro f1</th>\n",
       "      <th>Micro f1</th>\n",
       "      <th>Time (secs)</th>\n",
       "    </tr>\n",
       "  </thead>\n",
       "  <tbody>\n",
       "    <tr>\n",
       "      <th>7</th>\n",
       "      <td>0.856396</td>\n",
       "      <td>0.393999</td>\n",
       "      <td>0.85574</td>\n",
       "      <td>0.857052</td>\n",
       "      <td>1648.41574</td>\n",
       "      <td>0.806249</td>\n",
       "      <td>0.506121</td>\n",
       "      <td>0.80605</td>\n",
       "      <td>0.806448</td>\n",
       "      <td>101.975174</td>\n",
       "    </tr>\n",
       "  </tbody>\n",
       "</table>\n",
       "</div>"
      ],
      "text/plain": [
       "    Training                                          Validation            \\\n",
       "  Average f1      Loss Macro f1  Micro f1 Time (secs) Average f1      Loss   \n",
       "7   0.856396  0.393999  0.85574  0.857052  1648.41574   0.806249  0.506121   \n",
       "\n",
       "                                  \n",
       "  Macro f1  Micro f1 Time (secs)  \n",
       "7  0.80605  0.806448  101.975174  "
      ]
     },
     "metadata": {},
     "output_type": "display_data"
    },
    {
     "name": "stderr",
     "output_type": "stream",
     "text": [
      "INFO: Epoch 8/10\n"
     ]
    },
    {
     "data": {
      "application/vnd.jupyter.widget-view+json": {
       "model_id": "7eeaea8fb8e445edb492cc01df5362b5",
       "version_major": 2,
       "version_minor": 0
      },
      "text/plain": [
       "  0%|          | 0/2516 [00:00<?, ?it/s]"
      ]
     },
     "metadata": {},
     "output_type": "display_data"
    },
    {
     "name": "stderr",
     "output_type": "stream",
     "text": [
      "IOPub message rate exceeded.\n",
      "The notebook server will temporarily stop sending output\n",
      "to the client in order to avoid crashing it.\n",
      "To change this limit, set the config variable\n",
      "`--NotebookApp.iopub_msg_rate_limit`.\n",
      "\n",
      "Current values:\n",
      "NotebookApp.iopub_msg_rate_limit=1000.0 (msgs/sec)\n",
      "NotebookApp.rate_limit_window=3.0 (secs)\n",
      "\n",
      "IOPub message rate exceeded.\n",
      "The notebook server will temporarily stop sending output\n",
      "to the client in order to avoid crashing it.\n",
      "To change this limit, set the config variable\n",
      "`--NotebookApp.iopub_msg_rate_limit`.\n",
      "\n",
      "Current values:\n",
      "NotebookApp.iopub_msg_rate_limit=1000.0 (msgs/sec)\n",
      "NotebookApp.rate_limit_window=3.0 (secs)\n",
      "\n",
      "IOPub message rate exceeded.\n",
      "The notebook server will temporarily stop sending output\n",
      "to the client in order to avoid crashing it.\n",
      "To change this limit, set the config variable\n",
      "`--NotebookApp.iopub_msg_rate_limit`.\n",
      "\n",
      "Current values:\n",
      "NotebookApp.iopub_msg_rate_limit=1000.0 (msgs/sec)\n",
      "NotebookApp.rate_limit_window=3.0 (secs)\n",
      "\n",
      "IOPub message rate exceeded.\n",
      "The notebook server will temporarily stop sending output\n",
      "to the client in order to avoid crashing it.\n",
      "To change this limit, set the config variable\n",
      "`--NotebookApp.iopub_msg_rate_limit`.\n",
      "\n",
      "Current values:\n",
      "NotebookApp.iopub_msg_rate_limit=1000.0 (msgs/sec)\n",
      "NotebookApp.rate_limit_window=3.0 (secs)\n",
      "\n"
     ]
    },
    {
     "data": {
      "application/vnd.jupyter.widget-view+json": {
       "model_id": "82789bbf1e3b43c59f7a57404f0bfd13",
       "version_major": 2,
       "version_minor": 0
      },
      "text/plain": [
       "  0%|          | 0/539 [00:00<?, ?it/s]"
      ]
     },
     "metadata": {},
     "output_type": "display_data"
    },
    {
     "name": "stderr",
     "output_type": "stream",
     "text": [
      "IOPub message rate exceeded.\n",
      "The notebook server will temporarily stop sending output\n",
      "to the client in order to avoid crashing it.\n",
      "To change this limit, set the config variable\n",
      "`--NotebookApp.iopub_msg_rate_limit`.\n",
      "\n",
      "Current values:\n",
      "NotebookApp.iopub_msg_rate_limit=1000.0 (msgs/sec)\n",
      "NotebookApp.rate_limit_window=3.0 (secs)\n",
      "\n"
     ]
    }
   ],
   "source": [
    "summary = train_evaluate.train_and_evaluate(xnli_model, train_dataloader, valid_dataloader, \n",
    "                                            metric_params, train_params, continue_training=False)"
   ]
  },
  {
   "cell_type": "code",
   "execution_count": null,
   "id": "f705cfdc",
   "metadata": {},
   "outputs": [],
   "source": []
  }
 ],
 "metadata": {
  "kernelspec": {
   "display_name": "Python 3 (ipykernel)",
   "language": "python",
   "name": "python3"
  },
  "language_info": {
   "codemirror_mode": {
    "name": "ipython",
    "version": 3
   },
   "file_extension": ".py",
   "mimetype": "text/x-python",
   "name": "python",
   "nbconvert_exporter": "python",
   "pygments_lexer": "ipython3",
   "version": "3.7.12"
  },
  "toc": {
   "base_numbering": 1,
   "nav_menu": {},
   "number_sections": true,
   "sideBar": true,
   "skip_h1_title": false,
   "title_cell": "Table of Contents",
   "title_sidebar": "Contents",
   "toc_cell": false,
   "toc_position": {},
   "toc_section_display": true,
   "toc_window_display": false
  }
 },
 "nbformat": 4,
 "nbformat_minor": 5
}
