{
 "cells": [
  {
   "cell_type": "code",
   "execution_count": 8,
   "id": "9b381f99",
   "metadata": {},
   "outputs": [],
   "source": [
    "import os\n",
    "import re\n",
    "import pandas as pd"
   ]
  },
  {
   "cell_type": "code",
   "execution_count": 38,
   "id": "95ede2fd",
   "metadata": {},
   "outputs": [],
   "source": [
    "from utils import io"
   ]
  },
  {
   "cell_type": "markdown",
   "id": "2b196797",
   "metadata": {},
   "source": [
    "## Helper functions"
   ]
  },
  {
   "cell_type": "code",
   "execution_count": 50,
   "id": "38026ff1",
   "metadata": {},
   "outputs": [],
   "source": [
    "def get_files(data_dir, pattern):\n",
    "    file_list = []\n",
    "    prog = re.compile(pattern)\n",
    "    \n",
    "    for file in os.listdir(data_dir):\n",
    "        if prog.match(file):\n",
    "            file_list.append(f'{data_dir}/{file}')\n",
    "    return file_list\n"
   ]
  },
  {
   "cell_type": "code",
   "execution_count": 68,
   "id": "6253ebd2",
   "metadata": {},
   "outputs": [],
   "source": [
    "def read_files(files):\n",
    "    df_list = []\n",
    "    \n",
    "    for file in files:\n",
    "        df = pd.read_csv(file, index_col=0)\n",
    "        lang_code = file[-6:-4]\n",
    "        \n",
    "        df['language'] = lang_code\n",
    "        df_list.append(df)\n",
    "        \n",
    "    return pd.concat(df_list).reset_index(drop=True)\n"
   ]
  },
  {
   "cell_type": "markdown",
   "id": "f79ad8e6",
   "metadata": {},
   "source": [
    "## hi_sw_zh_es"
   ]
  },
  {
   "cell_type": "code",
   "execution_count": 83,
   "id": "6a3f9689",
   "metadata": {},
   "outputs": [],
   "source": [
    "data_dir = \"data/train/\""
   ]
  },
  {
   "cell_type": "code",
   "execution_count": 84,
   "id": "4f80ced2",
   "metadata": {},
   "outputs": [],
   "source": [
    "pattern = r'extended_train_en_(hi|sw|zh|es).csv'\n",
    "files = get_files(data_dir, pattern)"
   ]
  },
  {
   "cell_type": "code",
   "execution_count": 86,
   "id": "40b1bfff",
   "metadata": {},
   "outputs": [],
   "source": [
    "df = io.load_xnli_dataset(f'{data_dir}/train.tsv')\n",
    "\n",
    "ext_df = read_files(files)\n",
    "ext_df.rename(columns={'label':'gold_label'}, inplace = True)\n",
    "\n",
    "comb_df = pd.concat([df, ext_df]).reset_index(drop=True)"
   ]
  },
  {
   "cell_type": "code",
   "execution_count": 90,
   "id": "362066e3",
   "metadata": {},
   "outputs": [],
   "source": [
    "save_file = \"data/train/extended_train_en_hi_sw_zh_es.csv\"\n",
    "comb_df.to_csv(save_file)"
   ]
  },
  {
   "cell_type": "markdown",
   "id": "36f96bb6",
   "metadata": {},
   "source": [
    "## extended"
   ]
  },
  {
   "cell_type": "code",
   "execution_count": 92,
   "id": "fdfd5775",
   "metadata": {},
   "outputs": [],
   "source": [
    "data_dir = \"data/train/\""
   ]
  },
  {
   "cell_type": "code",
   "execution_count": 95,
   "id": "b9572491",
   "metadata": {},
   "outputs": [],
   "source": [
    "pattern = r'extended_train_[a-z]{2}_[a-z]{2}.csv'\n",
    "files = get_files(data_dir, pattern)"
   ]
  },
  {
   "cell_type": "code",
   "execution_count": 97,
   "id": "f20ee72f",
   "metadata": {},
   "outputs": [],
   "source": [
    "df = io.load_xnli_dataset(f'{data_dir}/train.tsv')\n",
    "\n",
    "ext_df = read_files(files)\n",
    "ext_df.rename(columns={'label':'gold_label'}, inplace = True)\n",
    "\n",
    "comb_df = pd.concat([df, ext_df]).reset_index(drop=True)"
   ]
  },
  {
   "cell_type": "code",
   "execution_count": 98,
   "id": "4f29e38d",
   "metadata": {},
   "outputs": [],
   "source": [
    "save_file = \"data/train/extended_train.csv\"\n",
    "comb_df.to_csv(save_file)"
   ]
  },
  {
   "cell_type": "code",
   "execution_count": null,
   "id": "2fec23fc",
   "metadata": {},
   "outputs": [],
   "source": []
  }
 ],
 "metadata": {
  "kernelspec": {
   "display_name": "Python 3 (ipykernel)",
   "language": "python",
   "name": "python3"
  },
  "language_info": {
   "codemirror_mode": {
    "name": "ipython",
    "version": 3
   },
   "file_extension": ".py",
   "mimetype": "text/x-python",
   "name": "python",
   "nbconvert_exporter": "python",
   "pygments_lexer": "ipython3",
   "version": "3.7.12"
  },
  "toc": {
   "base_numbering": 1,
   "nav_menu": {},
   "number_sections": true,
   "sideBar": true,
   "skip_h1_title": false,
   "title_cell": "Table of Contents",
   "title_sidebar": "Contents",
   "toc_cell": false,
   "toc_position": {},
   "toc_section_display": true,
   "toc_window_display": false
  }
 },
 "nbformat": 4,
 "nbformat_minor": 5
}
