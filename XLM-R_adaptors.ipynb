{
 "cells": [
  {
   "cell_type": "code",
   "execution_count": 1,
   "id": "9f4eef40",
   "metadata": {},
   "outputs": [],
   "source": [
    "%reload_ext autoreload\n",
    "%autoreload 2"
   ]
  },
  {
   "cell_type": "code",
   "execution_count": 2,
   "id": "6fd4c330",
   "metadata": {},
   "outputs": [],
   "source": [
    "import torch\n",
    "import random\n",
    "import numpy as np\n",
    "import pandas as pd\n",
    "from torch import nn\n",
    "from tqdm.notebook import tqdm\n",
    "from torch.utils.data import Dataset\n",
    "from torch.utils.data import DataLoader\n",
    "from transformers.adapters.composition import Stack"
   ]
  },
  {
   "cell_type": "code",
   "execution_count": 3,
   "id": "9c6d7e78",
   "metadata": {},
   "outputs": [],
   "source": [
    "from utils import io\n",
    "from utils import plot\n",
    "from utils import metric\n",
    "from model import train_evaluate\n",
    "\n",
    "from model import xlmr_xnli_model\n",
    "from model import xlmr_xnli_dataset\n",
    "\n",
    "from transformers import AutoTokenizer\n",
    "from transformers import XLMRobertaTokenizer, XLMRobertaModel\n",
    "from transformers import TrainingArguments, AdapterTrainer"
   ]
  },
  {
   "cell_type": "code",
   "execution_count": 4,
   "id": "1c2212c4",
   "metadata": {},
   "outputs": [],
   "source": [
    "device = torch.device('cuda' if torch.cuda.is_available() else 'cpu')"
   ]
  },
  {
   "cell_type": "code",
   "execution_count": 5,
   "id": "c3f12c5e",
   "metadata": {},
   "outputs": [],
   "source": [
    "seed = 144\n",
    "random.seed(seed)\n",
    "np.random.seed(seed)\n",
    "torch.manual_seed(seed)\n",
    "torch.backends.cudnn.deterministic = True"
   ]
  },
  {
   "cell_type": "markdown",
   "id": "5d33df4e",
   "metadata": {
    "heading_collapsed": true
   },
   "source": [
    "## Load data"
   ]
  },
  {
   "cell_type": "code",
   "execution_count": 31,
   "id": "9c8dceec",
   "metadata": {
    "hidden": true
   },
   "outputs": [],
   "source": [
    "train_file = \"data/train/extended_train_en_hi_sw_zh_es.csv\"\n",
    "complete_data = io.load_xnli_dataset_csv(train_file)"
   ]
  },
  {
   "cell_type": "code",
   "execution_count": 32,
   "id": "8d5df552",
   "metadata": {
    "hidden": true
   },
   "outputs": [],
   "source": [
    "data = complete_data[complete_data.language == \"en\"].reset_index(drop=True)"
   ]
  },
  {
   "cell_type": "code",
   "execution_count": 33,
   "id": "2187ead0",
   "metadata": {
    "hidden": true
   },
   "outputs": [
    {
     "data": {
      "text/html": [
       "<div>\n",
       "<style scoped>\n",
       "    .dataframe tbody tr th:only-of-type {\n",
       "        vertical-align: middle;\n",
       "    }\n",
       "\n",
       "    .dataframe tbody tr th {\n",
       "        vertical-align: top;\n",
       "    }\n",
       "\n",
       "    .dataframe thead th {\n",
       "        text-align: right;\n",
       "    }\n",
       "</style>\n",
       "<table border=\"1\" class=\"dataframe\">\n",
       "  <thead>\n",
       "    <tr style=\"text-align: right;\">\n",
       "      <th></th>\n",
       "      <th>gold_label</th>\n",
       "      <th>premise</th>\n",
       "      <th>hypothesis</th>\n",
       "      <th>language</th>\n",
       "    </tr>\n",
       "  </thead>\n",
       "  <tbody>\n",
       "    <tr>\n",
       "      <th>0</th>\n",
       "      <td>neutral</td>\n",
       "      <td>At ground level, the asymmetrical cathedral is...</td>\n",
       "      <td>It's hard to find a dramatic view of the cathe...</td>\n",
       "      <td>en</td>\n",
       "    </tr>\n",
       "    <tr>\n",
       "      <th>1</th>\n",
       "      <td>contradiction</td>\n",
       "      <td>Hanuman is a beneficent deity predating classi...</td>\n",
       "      <td>Hanuman declared that all the lemurs here need...</td>\n",
       "      <td>en</td>\n",
       "    </tr>\n",
       "    <tr>\n",
       "      <th>2</th>\n",
       "      <td>contradiction</td>\n",
       "      <td>All other spending as well as federal revenue ...</td>\n",
       "      <td>None of the federal spending is assumed to grow</td>\n",
       "      <td>en</td>\n",
       "    </tr>\n",
       "    <tr>\n",
       "      <th>3</th>\n",
       "      <td>neutral</td>\n",
       "      <td>uh-huh that's interesting well it sounds as th...</td>\n",
       "      <td>That information about graduation rates is int...</td>\n",
       "      <td>en</td>\n",
       "    </tr>\n",
       "    <tr>\n",
       "      <th>4</th>\n",
       "      <td>neutral</td>\n",
       "      <td>Some kind of instant recognition on his father...</td>\n",
       "      <td>Did his father recognize him?</td>\n",
       "      <td>en</td>\n",
       "    </tr>\n",
       "    <tr>\n",
       "      <th>...</th>\n",
       "      <td>...</td>\n",
       "      <td>...</td>\n",
       "      <td>...</td>\n",
       "      <td>...</td>\n",
       "    </tr>\n",
       "    <tr>\n",
       "      <th>100973</th>\n",
       "      <td>neutral</td>\n",
       "      <td>Evidence of such low sensitivity in an importa...</td>\n",
       "      <td>Multiple screens tailored to subgroups will pr...</td>\n",
       "      <td>en</td>\n",
       "    </tr>\n",
       "    <tr>\n",
       "      <th>100974</th>\n",
       "      <td>contradiction</td>\n",
       "      <td>actually i just put a uh little fence around m...</td>\n",
       "      <td>I have never had groundhogs in my yard.</td>\n",
       "      <td>en</td>\n",
       "    </tr>\n",
       "    <tr>\n",
       "      <th>100975</th>\n",
       "      <td>contradiction</td>\n",
       "      <td>If you don't already have a clear idea of what...</td>\n",
       "      <td>THe palace doesn't' reflect him at all.</td>\n",
       "      <td>en</td>\n",
       "    </tr>\n",
       "    <tr>\n",
       "      <th>100976</th>\n",
       "      <td>neutral</td>\n",
       "      <td>but i grew up in LA i work out here</td>\n",
       "      <td>I moved to LA when I was 5.</td>\n",
       "      <td>en</td>\n",
       "    </tr>\n",
       "    <tr>\n",
       "      <th>100977</th>\n",
       "      <td>entailment</td>\n",
       "      <td>The kings and counts and feudal lords have gon...</td>\n",
       "      <td>Gaming country is still there even though the ...</td>\n",
       "      <td>en</td>\n",
       "    </tr>\n",
       "  </tbody>\n",
       "</table>\n",
       "<p>100978 rows × 4 columns</p>\n",
       "</div>"
      ],
      "text/plain": [
       "           gold_label                                            premise  \\\n",
       "0             neutral  At ground level, the asymmetrical cathedral is...   \n",
       "1       contradiction  Hanuman is a beneficent deity predating classi...   \n",
       "2       contradiction  All other spending as well as federal revenue ...   \n",
       "3             neutral  uh-huh that's interesting well it sounds as th...   \n",
       "4             neutral  Some kind of instant recognition on his father...   \n",
       "...               ...                                                ...   \n",
       "100973        neutral  Evidence of such low sensitivity in an importa...   \n",
       "100974  contradiction  actually i just put a uh little fence around m...   \n",
       "100975  contradiction  If you don't already have a clear idea of what...   \n",
       "100976        neutral                but i grew up in LA i work out here   \n",
       "100977     entailment  The kings and counts and feudal lords have gon...   \n",
       "\n",
       "                                               hypothesis language  \n",
       "0       It's hard to find a dramatic view of the cathe...       en  \n",
       "1       Hanuman declared that all the lemurs here need...       en  \n",
       "2         None of the federal spending is assumed to grow       en  \n",
       "3       That information about graduation rates is int...       en  \n",
       "4                           Did his father recognize him?       en  \n",
       "...                                                   ...      ...  \n",
       "100973  Multiple screens tailored to subgroups will pr...       en  \n",
       "100974            I have never had groundhogs in my yard.       en  \n",
       "100975            THe palace doesn't' reflect him at all.       en  \n",
       "100976                        I moved to LA when I was 5.       en  \n",
       "100977  Gaming country is still there even though the ...       en  \n",
       "\n",
       "[100978 rows x 4 columns]"
      ]
     },
     "execution_count": 33,
     "metadata": {},
     "output_type": "execute_result"
    }
   ],
   "source": [
    "data"
   ]
  },
  {
   "cell_type": "code",
   "execution_count": 13,
   "id": "51bfe287",
   "metadata": {
    "hidden": true
   },
   "outputs": [],
   "source": [
    "#languages = ['zh', 'es', 'hi', 'sw']\n",
    "languages = ['en']\n",
    "\n",
    "lang_code_map = {x:i for i, x in enumerate(data.language.cat.categories)}\n",
    "lang_codes = {lang_code_map[lang]: lang for lang in languages}"
   ]
  },
  {
   "cell_type": "code",
   "execution_count": 14,
   "id": "5e6a2e96",
   "metadata": {
    "hidden": true
   },
   "outputs": [],
   "source": [
    "dataset_info = {\n",
    "    'language': data.language.cat.categories.values,\n",
    "    'gold_labels': data.gold_label.cat.categories.values\n",
    "}"
   ]
  },
  {
   "cell_type": "code",
   "execution_count": 15,
   "id": "d65d8595",
   "metadata": {
    "hidden": true
   },
   "outputs": [],
   "source": [
    "train_data, valid_data, test_data = io.split_dataset(data, lang_codes=lang_codes)"
   ]
  },
  {
   "cell_type": "markdown",
   "id": "71562b7b",
   "metadata": {
    "heading_collapsed": true
   },
   "source": [
    "## Dataloader"
   ]
  },
  {
   "cell_type": "code",
   "execution_count": 16,
   "id": "518baac5",
   "metadata": {
    "hidden": true
   },
   "outputs": [],
   "source": [
    "batch_size = 32"
   ]
  },
  {
   "cell_type": "code",
   "execution_count": 17,
   "id": "31d04e56",
   "metadata": {
    "hidden": true
   },
   "outputs": [],
   "source": [
    "tokenizer = AutoTokenizer.from_pretrained(\"xlm-roberta-base\")"
   ]
  },
  {
   "cell_type": "code",
   "execution_count": 18,
   "id": "dca8c85b",
   "metadata": {
    "hidden": true
   },
   "outputs": [],
   "source": [
    "train_dataset = xlmr_xnli_dataset.XLMRXNLIDataset(train_data, tokenizer, torch.device('cuda'))\n",
    "valid_dataset = xlmr_xnli_dataset.XLMRXNLIDataset(valid_data, tokenizer, torch.device('cuda'))"
   ]
  },
  {
   "cell_type": "code",
   "execution_count": 19,
   "id": "83c0e97b",
   "metadata": {
    "hidden": true
   },
   "outputs": [],
   "source": [
    "train_dataloader = DataLoader(\n",
    "        train_dataset, \n",
    "        batch_size=batch_size,\n",
    "        drop_last=False,\n",
    "        num_workers=0,\n",
    "        shuffle=True,\n",
    "        collate_fn=tokenizer.pad\n",
    "    )\n",
    "\n",
    "valid_dataloader = DataLoader(\n",
    "        valid_dataset, \n",
    "        batch_size=batch_size,\n",
    "        drop_last=False,\n",
    "        num_workers=0,\n",
    "        shuffle=True,\n",
    "        collate_fn=tokenizer.pad\n",
    "    )"
   ]
  },
  {
   "cell_type": "code",
   "execution_count": 20,
   "id": "c60cbb21",
   "metadata": {
    "hidden": true
   },
   "outputs": [],
   "source": [
    "batch = next(iter(train_dataloader))\n",
    "batch = batch.to(device)"
   ]
  },
  {
   "cell_type": "markdown",
   "id": "1e8ce419",
   "metadata": {
    "heading_collapsed": true
   },
   "source": [
    "## Model"
   ]
  },
  {
   "cell_type": "code",
   "execution_count": 21,
   "id": "6dcf6eb7",
   "metadata": {
    "hidden": true
   },
   "outputs": [
    {
     "name": "stderr",
     "output_type": "stream",
     "text": [
      "Some weights of the model checkpoint at xlm-roberta-base were not used when initializing XLMRobertaAdapterModel: ['lm_head.dense.weight', 'lm_head.layer_norm.bias', 'lm_head.decoder.weight', 'lm_head.layer_norm.weight', 'lm_head.dense.bias', 'lm_head.bias']\n",
      "- This IS expected if you are initializing XLMRobertaAdapterModel from the checkpoint of a model trained on another task or with another architecture (e.g. initializing a BertForSequenceClassification model from a BertForPreTraining model).\n",
      "- This IS NOT expected if you are initializing XLMRobertaAdapterModel from the checkpoint of a model that you expect to be exactly identical (initializing a BertForSequenceClassification model from a BertForSequenceClassification model).\n",
      "Some weights of XLMRobertaAdapterModel were not initialized from the model checkpoint at xlm-roberta-base and are newly initialized: ['roberta.embeddings.position_ids']\n",
      "You should probably TRAIN this model on a down-stream task to be able to use it for predictions and inference.\n"
     ]
    }
   ],
   "source": [
    "from transformers import AutoConfig, AutoAdapterModel\n",
    "from transformers import TrainingArguments, AdapterTrainer\n",
    "from transformers import AdapterConfig\n",
    "\n",
    "config = AutoConfig.from_pretrained(\n",
    "    \"xlm-roberta-base\",\n",
    ")\n",
    "model = AutoAdapterModel.from_pretrained(\n",
    "    \"xlm-roberta-base\",\n",
    "    config=config\n",
    ")\n",
    "\n",
    "model = model.to(device)\n",
    "\n",
    "lang_adapter_config = AdapterConfig.load(\"pfeiffer\", reduction_factor=2)\n",
    "model.load_adapter(\"en/wiki@ukp\", config=lang_adapter_config)\n",
    "model.load_adapter(\"zh/wiki@ukp\", config=lang_adapter_config)\n",
    "model.load_adapter(\"hi/wiki@ukp\", config=lang_adapter_config)\n",
    "model.load_adapter(\"es/wiki@ukp\", config=lang_adapter_config)\n",
    "model.load_adapter(\"sw/wiki@ukp\", config=lang_adapter_config)\n",
    "\n",
    "model.add_adapter(\"xnli\")"
   ]
  },
  {
   "cell_type": "code",
   "execution_count": 22,
   "id": "b9a93241",
   "metadata": {
    "hidden": true
   },
   "outputs": [],
   "source": [
    "model.train_adapter([\"xnli\"])\n",
    "model.active_adapters = Stack(\"en\", \"xnli\")"
   ]
  },
  {
   "cell_type": "code",
   "execution_count": 23,
   "id": "1c3f4fd5",
   "metadata": {
    "hidden": true
   },
   "outputs": [],
   "source": [
    "model_params = {'model': model, \n",
    "                'device': device,\n",
    "                'dropout_params':{\n",
    "                    'xlmr_drop':0.5,\n",
    "                    'mlp_drop':0.5\n",
    "                },\n",
    "                'layers': [768, 3]}\n"
   ]
  },
  {
   "cell_type": "code",
   "execution_count": 24,
   "id": "2b0db25b",
   "metadata": {
    "hidden": true
   },
   "outputs": [],
   "source": [
    "xnli_model = xlmr_xnli_model.XLMRXNLIAdaptorModel(**model_params)"
   ]
  },
  {
   "cell_type": "markdown",
   "id": "fa604e7e",
   "metadata": {
    "heading_collapsed": true
   },
   "source": [
    "## Training"
   ]
  },
  {
   "cell_type": "code",
   "execution_count": 25,
   "id": "1c8a0599",
   "metadata": {
    "hidden": true
   },
   "outputs": [],
   "source": [
    "metric_params = {\n",
    "    'accuracy': metric.accuracy, \n",
    "    'macro_f1': metric.macro_f1, \n",
    "    'average_f1': metric.average_f1,\n",
    "}"
   ]
  },
  {
   "cell_type": "code",
   "execution_count": 26,
   "id": "1a13be47",
   "metadata": {
    "hidden": true
   },
   "outputs": [],
   "source": [
    "train_params_base = {\n",
    "    'num_epochs': 5,\n",
    "    'step_size': 3,\n",
    "    'gamma': 0.1,\n",
    "    'lr': 1e-3,\n",
    "    'betas': (0.9, 0.999),\n",
    "    'lrs': [1e-4, 1e-3],\n",
    "    'lang_codes': lang_codes,\n",
    "    'weight_decay': 0,\n",
    "    'save_dir':'experiments/LinearHead/',\n",
    "    'save_tag':'',\n",
    "    'verbose': True,\n",
    "    'restore_file': None, #last, best\n",
    "    'tensorboard_dir': 'runs/LinearHead/',\n",
    "    'device': device\n",
    "}"
   ]
  },
  {
   "cell_type": "code",
   "execution_count": 27,
   "id": "2d16bc97",
   "metadata": {
    "hidden": true
   },
   "outputs": [],
   "source": [
    "train_params = io.setup_training(train_params_base, model_params, dataset_info)"
   ]
  },
  {
   "cell_type": "code",
   "execution_count": 28,
   "id": "0030ec1d",
   "metadata": {
    "hidden": true
   },
   "outputs": [
    {
     "data": {
      "text/plain": [
       "{'num_epochs': 5,\n",
       " 'step_size': 3,\n",
       " 'gamma': 0.1,\n",
       " 'lr': 0.001,\n",
       " 'betas': (0.9, 0.999),\n",
       " 'lrs': [0.0001, 0.001],\n",
       " 'lang_codes': {4: 'en'},\n",
       " 'weight_decay': 0,\n",
       " 'save_dir': 'experiments/LinearHead//R_029/',\n",
       " 'save_tag': '_029',\n",
       " 'verbose': True,\n",
       " 'restore_file': None,\n",
       " 'tensorboard_dir': 'runs/LinearHead//R_029',\n",
       " 'device': device(type='cuda')}"
      ]
     },
     "execution_count": 28,
     "metadata": {},
     "output_type": "execute_result"
    }
   ],
   "source": [
    "train_params"
   ]
  },
  {
   "cell_type": "code",
   "execution_count": 29,
   "id": "1c762934",
   "metadata": {
    "hidden": true
   },
   "outputs": [
    {
     "data": {
      "application/vnd.jupyter.widget-view+json": {
       "model_id": "063815743438401892d3201ca6bb2bb7",
       "version_major": 2,
       "version_minor": 0
      },
      "text/plain": [
       "  0%|          | 0/5 [00:00<?, ?it/s]"
      ]
     },
     "metadata": {},
     "output_type": "display_data"
    },
    {
     "name": "stderr",
     "output_type": "stream",
     "text": [
      "INFO: Epoch 1/5\n"
     ]
    },
    {
     "data": {
      "application/vnd.jupyter.widget-view+json": {
       "model_id": "b6b8fcb903ec47b883fc11844303b3d0",
       "version_major": 2,
       "version_minor": 0
      },
      "text/plain": [
       "  0%|          | 0/2209 [00:00<?, ?it/s]"
      ]
     },
     "metadata": {},
     "output_type": "display_data"
    },
    {
     "data": {
      "application/vnd.jupyter.widget-view+json": {
       "model_id": "a334639ed70c4b69823f14ad471f9e5d",
       "version_major": 2,
       "version_minor": 0
      },
      "text/plain": [
       "  0%|          | 0/474 [00:00<?, ?it/s]"
      ]
     },
     "metadata": {},
     "output_type": "display_data"
    },
    {
     "name": "stderr",
     "output_type": "stream",
     "text": [
      "INFO: - Found new best accuracy.\n"
     ]
    },
    {
     "data": {
      "text/html": [
       "<div>\n",
       "<style scoped>\n",
       "    .dataframe tbody tr th:only-of-type {\n",
       "        vertical-align: middle;\n",
       "    }\n",
       "\n",
       "    .dataframe tbody tr th {\n",
       "        vertical-align: top;\n",
       "    }\n",
       "\n",
       "    .dataframe thead tr th {\n",
       "        text-align: left;\n",
       "    }\n",
       "</style>\n",
       "<table border=\"1\" class=\"dataframe\">\n",
       "  <thead>\n",
       "    <tr>\n",
       "      <th></th>\n",
       "      <th colspan=\"5\" halign=\"left\">Training</th>\n",
       "      <th colspan=\"5\" halign=\"left\">Validation</th>\n",
       "    </tr>\n",
       "    <tr>\n",
       "      <th></th>\n",
       "      <th>Average f1</th>\n",
       "      <th>Loss</th>\n",
       "      <th>Macro f1</th>\n",
       "      <th>Micro f1</th>\n",
       "      <th>Time (secs)</th>\n",
       "      <th>Average f1</th>\n",
       "      <th>Loss</th>\n",
       "      <th>Macro f1</th>\n",
       "      <th>Micro f1</th>\n",
       "      <th>Time (secs)</th>\n",
       "    </tr>\n",
       "  </thead>\n",
       "  <tbody>\n",
       "    <tr>\n",
       "      <th>1</th>\n",
       "      <td>0.594135</td>\n",
       "      <td>0.855172</td>\n",
       "      <td>0.592024</td>\n",
       "      <td>0.596245</td>\n",
       "      <td>311.975201</td>\n",
       "      <td>0.747428</td>\n",
       "      <td>0.61743</td>\n",
       "      <td>0.747529</td>\n",
       "      <td>0.747326</td>\n",
       "      <td>34.259178</td>\n",
       "    </tr>\n",
       "  </tbody>\n",
       "</table>\n",
       "</div>"
      ],
      "text/plain": [
       "    Training                                           Validation           \\\n",
       "  Average f1      Loss  Macro f1  Micro f1 Time (secs) Average f1     Loss   \n",
       "1   0.594135  0.855172  0.592024  0.596245  311.975201   0.747428  0.61743   \n",
       "\n",
       "                                   \n",
       "   Macro f1  Micro f1 Time (secs)  \n",
       "1  0.747529  0.747326   34.259178  "
      ]
     },
     "metadata": {},
     "output_type": "display_data"
    },
    {
     "data": {
      "text/html": [
       "<div>\n",
       "<style scoped>\n",
       "    .dataframe tbody tr th:only-of-type {\n",
       "        vertical-align: middle;\n",
       "    }\n",
       "\n",
       "    .dataframe tbody tr th {\n",
       "        vertical-align: top;\n",
       "    }\n",
       "\n",
       "    .dataframe thead tr th {\n",
       "        text-align: left;\n",
       "    }\n",
       "</style>\n",
       "<table border=\"1\" class=\"dataframe\">\n",
       "  <thead>\n",
       "    <tr>\n",
       "      <th></th>\n",
       "      <th>Training</th>\n",
       "      <th>Validation</th>\n",
       "    </tr>\n",
       "    <tr>\n",
       "      <th></th>\n",
       "      <th>en</th>\n",
       "      <th>en</th>\n",
       "    </tr>\n",
       "  </thead>\n",
       "  <tbody>\n",
       "    <tr>\n",
       "      <th>accuracy</th>\n",
       "      <td>0.596245</td>\n",
       "      <td>0.747326</td>\n",
       "    </tr>\n",
       "  </tbody>\n",
       "</table>\n",
       "</div>"
      ],
      "text/plain": [
       "          Training Validation\n",
       "                en         en\n",
       "accuracy  0.596245   0.747326"
      ]
     },
     "metadata": {},
     "output_type": "display_data"
    },
    {
     "data": {
      "text/html": [
       "<div>\n",
       "<style scoped>\n",
       "    .dataframe tbody tr th:only-of-type {\n",
       "        vertical-align: middle;\n",
       "    }\n",
       "\n",
       "    .dataframe tbody tr th {\n",
       "        vertical-align: top;\n",
       "    }\n",
       "\n",
       "    .dataframe thead tr th {\n",
       "        text-align: left;\n",
       "    }\n",
       "</style>\n",
       "<table border=\"1\" class=\"dataframe\">\n",
       "  <thead>\n",
       "    <tr>\n",
       "      <th></th>\n",
       "      <th>Training</th>\n",
       "      <th>Validation</th>\n",
       "    </tr>\n",
       "    <tr>\n",
       "      <th></th>\n",
       "      <th>en</th>\n",
       "      <th>en</th>\n",
       "    </tr>\n",
       "  </thead>\n",
       "  <tbody>\n",
       "    <tr>\n",
       "      <th>macro_f1</th>\n",
       "      <td>0.592024</td>\n",
       "      <td>0.747529</td>\n",
       "    </tr>\n",
       "  </tbody>\n",
       "</table>\n",
       "</div>"
      ],
      "text/plain": [
       "          Training Validation\n",
       "                en         en\n",
       "macro_f1  0.592024   0.747529"
      ]
     },
     "metadata": {},
     "output_type": "display_data"
    },
    {
     "data": {
      "text/html": [
       "<div>\n",
       "<style scoped>\n",
       "    .dataframe tbody tr th:only-of-type {\n",
       "        vertical-align: middle;\n",
       "    }\n",
       "\n",
       "    .dataframe tbody tr th {\n",
       "        vertical-align: top;\n",
       "    }\n",
       "\n",
       "    .dataframe thead tr th {\n",
       "        text-align: left;\n",
       "    }\n",
       "</style>\n",
       "<table border=\"1\" class=\"dataframe\">\n",
       "  <thead>\n",
       "    <tr>\n",
       "      <th></th>\n",
       "      <th>Training</th>\n",
       "      <th>Validation</th>\n",
       "    </tr>\n",
       "    <tr>\n",
       "      <th></th>\n",
       "      <th>en</th>\n",
       "      <th>en</th>\n",
       "    </tr>\n",
       "  </thead>\n",
       "  <tbody>\n",
       "    <tr>\n",
       "      <th>average_f1</th>\n",
       "      <td>0.594135</td>\n",
       "      <td>0.747428</td>\n",
       "    </tr>\n",
       "  </tbody>\n",
       "</table>\n",
       "</div>"
      ],
      "text/plain": [
       "            Training Validation\n",
       "                  en         en\n",
       "average_f1  0.594135   0.747428"
      ]
     },
     "metadata": {},
     "output_type": "display_data"
    },
    {
     "name": "stderr",
     "output_type": "stream",
     "text": [
      "INFO: Epoch 2/5\n"
     ]
    },
    {
     "data": {
      "application/vnd.jupyter.widget-view+json": {
       "model_id": "3f072a58776c4ba2a4da20c41a360948",
       "version_major": 2,
       "version_minor": 0
      },
      "text/plain": [
       "  0%|          | 0/2209 [00:00<?, ?it/s]"
      ]
     },
     "metadata": {},
     "output_type": "display_data"
    },
    {
     "data": {
      "application/vnd.jupyter.widget-view+json": {
       "model_id": "70a1aeed3bc14b8fb63c05f5d95c0c1c",
       "version_major": 2,
       "version_minor": 0
      },
      "text/plain": [
       "  0%|          | 0/474 [00:00<?, ?it/s]"
      ]
     },
     "metadata": {},
     "output_type": "display_data"
    },
    {
     "name": "stderr",
     "output_type": "stream",
     "text": [
      "INFO: - Found new best accuracy.\n"
     ]
    },
    {
     "data": {
      "text/html": [
       "<div>\n",
       "<style scoped>\n",
       "    .dataframe tbody tr th:only-of-type {\n",
       "        vertical-align: middle;\n",
       "    }\n",
       "\n",
       "    .dataframe tbody tr th {\n",
       "        vertical-align: top;\n",
       "    }\n",
       "\n",
       "    .dataframe thead tr th {\n",
       "        text-align: left;\n",
       "    }\n",
       "</style>\n",
       "<table border=\"1\" class=\"dataframe\">\n",
       "  <thead>\n",
       "    <tr>\n",
       "      <th></th>\n",
       "      <th colspan=\"5\" halign=\"left\">Training</th>\n",
       "      <th colspan=\"5\" halign=\"left\">Validation</th>\n",
       "    </tr>\n",
       "    <tr>\n",
       "      <th></th>\n",
       "      <th>Average f1</th>\n",
       "      <th>Loss</th>\n",
       "      <th>Macro f1</th>\n",
       "      <th>Micro f1</th>\n",
       "      <th>Time (secs)</th>\n",
       "      <th>Average f1</th>\n",
       "      <th>Loss</th>\n",
       "      <th>Macro f1</th>\n",
       "      <th>Micro f1</th>\n",
       "      <th>Time (secs)</th>\n",
       "    </tr>\n",
       "  </thead>\n",
       "  <tbody>\n",
       "    <tr>\n",
       "      <th>2</th>\n",
       "      <td>0.744532</td>\n",
       "      <td>0.628622</td>\n",
       "      <td>0.743564</td>\n",
       "      <td>0.745501</td>\n",
       "      <td>309.471278</td>\n",
       "      <td>0.772942</td>\n",
       "      <td>0.577549</td>\n",
       "      <td>0.771423</td>\n",
       "      <td>0.774462</td>\n",
       "      <td>34.253382</td>\n",
       "    </tr>\n",
       "  </tbody>\n",
       "</table>\n",
       "</div>"
      ],
      "text/plain": [
       "    Training                                           Validation            \\\n",
       "  Average f1      Loss  Macro f1  Micro f1 Time (secs) Average f1      Loss   \n",
       "2   0.744532  0.628622  0.743564  0.745501  309.471278   0.772942  0.577549   \n",
       "\n",
       "                                   \n",
       "   Macro f1  Micro f1 Time (secs)  \n",
       "2  0.771423  0.774462   34.253382  "
      ]
     },
     "metadata": {},
     "output_type": "display_data"
    },
    {
     "data": {
      "text/html": [
       "<div>\n",
       "<style scoped>\n",
       "    .dataframe tbody tr th:only-of-type {\n",
       "        vertical-align: middle;\n",
       "    }\n",
       "\n",
       "    .dataframe tbody tr th {\n",
       "        vertical-align: top;\n",
       "    }\n",
       "\n",
       "    .dataframe thead tr th {\n",
       "        text-align: left;\n",
       "    }\n",
       "</style>\n",
       "<table border=\"1\" class=\"dataframe\">\n",
       "  <thead>\n",
       "    <tr>\n",
       "      <th></th>\n",
       "      <th>Training</th>\n",
       "      <th>Validation</th>\n",
       "    </tr>\n",
       "    <tr>\n",
       "      <th></th>\n",
       "      <th>en</th>\n",
       "      <th>en</th>\n",
       "    </tr>\n",
       "  </thead>\n",
       "  <tbody>\n",
       "    <tr>\n",
       "      <th>accuracy</th>\n",
       "      <td>0.745501</td>\n",
       "      <td>0.774462</td>\n",
       "    </tr>\n",
       "  </tbody>\n",
       "</table>\n",
       "</div>"
      ],
      "text/plain": [
       "          Training Validation\n",
       "                en         en\n",
       "accuracy  0.745501   0.774462"
      ]
     },
     "metadata": {},
     "output_type": "display_data"
    },
    {
     "data": {
      "text/html": [
       "<div>\n",
       "<style scoped>\n",
       "    .dataframe tbody tr th:only-of-type {\n",
       "        vertical-align: middle;\n",
       "    }\n",
       "\n",
       "    .dataframe tbody tr th {\n",
       "        vertical-align: top;\n",
       "    }\n",
       "\n",
       "    .dataframe thead tr th {\n",
       "        text-align: left;\n",
       "    }\n",
       "</style>\n",
       "<table border=\"1\" class=\"dataframe\">\n",
       "  <thead>\n",
       "    <tr>\n",
       "      <th></th>\n",
       "      <th>Training</th>\n",
       "      <th>Validation</th>\n",
       "    </tr>\n",
       "    <tr>\n",
       "      <th></th>\n",
       "      <th>en</th>\n",
       "      <th>en</th>\n",
       "    </tr>\n",
       "  </thead>\n",
       "  <tbody>\n",
       "    <tr>\n",
       "      <th>macro_f1</th>\n",
       "      <td>0.743564</td>\n",
       "      <td>0.771423</td>\n",
       "    </tr>\n",
       "  </tbody>\n",
       "</table>\n",
       "</div>"
      ],
      "text/plain": [
       "          Training Validation\n",
       "                en         en\n",
       "macro_f1  0.743564   0.771423"
      ]
     },
     "metadata": {},
     "output_type": "display_data"
    },
    {
     "data": {
      "text/html": [
       "<div>\n",
       "<style scoped>\n",
       "    .dataframe tbody tr th:only-of-type {\n",
       "        vertical-align: middle;\n",
       "    }\n",
       "\n",
       "    .dataframe tbody tr th {\n",
       "        vertical-align: top;\n",
       "    }\n",
       "\n",
       "    .dataframe thead tr th {\n",
       "        text-align: left;\n",
       "    }\n",
       "</style>\n",
       "<table border=\"1\" class=\"dataframe\">\n",
       "  <thead>\n",
       "    <tr>\n",
       "      <th></th>\n",
       "      <th>Training</th>\n",
       "      <th>Validation</th>\n",
       "    </tr>\n",
       "    <tr>\n",
       "      <th></th>\n",
       "      <th>en</th>\n",
       "      <th>en</th>\n",
       "    </tr>\n",
       "  </thead>\n",
       "  <tbody>\n",
       "    <tr>\n",
       "      <th>average_f1</th>\n",
       "      <td>0.744532</td>\n",
       "      <td>0.772942</td>\n",
       "    </tr>\n",
       "  </tbody>\n",
       "</table>\n",
       "</div>"
      ],
      "text/plain": [
       "            Training Validation\n",
       "                  en         en\n",
       "average_f1  0.744532   0.772942"
      ]
     },
     "metadata": {},
     "output_type": "display_data"
    },
    {
     "name": "stderr",
     "output_type": "stream",
     "text": [
      "INFO: Epoch 3/5\n"
     ]
    },
    {
     "data": {
      "application/vnd.jupyter.widget-view+json": {
       "model_id": "e1791990dd474f539e6bc8f89cd3d945",
       "version_major": 2,
       "version_minor": 0
      },
      "text/plain": [
       "  0%|          | 0/2209 [00:00<?, ?it/s]"
      ]
     },
     "metadata": {},
     "output_type": "display_data"
    },
    {
     "data": {
      "application/vnd.jupyter.widget-view+json": {
       "model_id": "92c134847d9e4e5a8f2ac73125d83592",
       "version_major": 2,
       "version_minor": 0
      },
      "text/plain": [
       "  0%|          | 0/474 [00:00<?, ?it/s]"
      ]
     },
     "metadata": {},
     "output_type": "display_data"
    },
    {
     "name": "stderr",
     "output_type": "stream",
     "text": [
      "INFO: - Found new best accuracy.\n"
     ]
    },
    {
     "data": {
      "text/html": [
       "<div>\n",
       "<style scoped>\n",
       "    .dataframe tbody tr th:only-of-type {\n",
       "        vertical-align: middle;\n",
       "    }\n",
       "\n",
       "    .dataframe tbody tr th {\n",
       "        vertical-align: top;\n",
       "    }\n",
       "\n",
       "    .dataframe thead tr th {\n",
       "        text-align: left;\n",
       "    }\n",
       "</style>\n",
       "<table border=\"1\" class=\"dataframe\">\n",
       "  <thead>\n",
       "    <tr>\n",
       "      <th></th>\n",
       "      <th colspan=\"5\" halign=\"left\">Training</th>\n",
       "      <th colspan=\"5\" halign=\"left\">Validation</th>\n",
       "    </tr>\n",
       "    <tr>\n",
       "      <th></th>\n",
       "      <th>Average f1</th>\n",
       "      <th>Loss</th>\n",
       "      <th>Macro f1</th>\n",
       "      <th>Micro f1</th>\n",
       "      <th>Time (secs)</th>\n",
       "      <th>Average f1</th>\n",
       "      <th>Loss</th>\n",
       "      <th>Macro f1</th>\n",
       "      <th>Micro f1</th>\n",
       "      <th>Time (secs)</th>\n",
       "    </tr>\n",
       "  </thead>\n",
       "  <tbody>\n",
       "    <tr>\n",
       "      <th>3</th>\n",
       "      <td>0.769471</td>\n",
       "      <td>0.575731</td>\n",
       "      <td>0.768555</td>\n",
       "      <td>0.770387</td>\n",
       "      <td>310.459919</td>\n",
       "      <td>0.780963</td>\n",
       "      <td>0.565777</td>\n",
       "      <td>0.778749</td>\n",
       "      <td>0.783177</td>\n",
       "      <td>34.442538</td>\n",
       "    </tr>\n",
       "  </tbody>\n",
       "</table>\n",
       "</div>"
      ],
      "text/plain": [
       "    Training                                           Validation            \\\n",
       "  Average f1      Loss  Macro f1  Micro f1 Time (secs) Average f1      Loss   \n",
       "3   0.769471  0.575731  0.768555  0.770387  310.459919   0.780963  0.565777   \n",
       "\n",
       "                                   \n",
       "   Macro f1  Micro f1 Time (secs)  \n",
       "3  0.778749  0.783177   34.442538  "
      ]
     },
     "metadata": {},
     "output_type": "display_data"
    },
    {
     "data": {
      "text/html": [
       "<div>\n",
       "<style scoped>\n",
       "    .dataframe tbody tr th:only-of-type {\n",
       "        vertical-align: middle;\n",
       "    }\n",
       "\n",
       "    .dataframe tbody tr th {\n",
       "        vertical-align: top;\n",
       "    }\n",
       "\n",
       "    .dataframe thead tr th {\n",
       "        text-align: left;\n",
       "    }\n",
       "</style>\n",
       "<table border=\"1\" class=\"dataframe\">\n",
       "  <thead>\n",
       "    <tr>\n",
       "      <th></th>\n",
       "      <th>Training</th>\n",
       "      <th>Validation</th>\n",
       "    </tr>\n",
       "    <tr>\n",
       "      <th></th>\n",
       "      <th>en</th>\n",
       "      <th>en</th>\n",
       "    </tr>\n",
       "  </thead>\n",
       "  <tbody>\n",
       "    <tr>\n",
       "      <th>accuracy</th>\n",
       "      <td>0.770387</td>\n",
       "      <td>0.783177</td>\n",
       "    </tr>\n",
       "  </tbody>\n",
       "</table>\n",
       "</div>"
      ],
      "text/plain": [
       "          Training Validation\n",
       "                en         en\n",
       "accuracy  0.770387   0.783177"
      ]
     },
     "metadata": {},
     "output_type": "display_data"
    },
    {
     "data": {
      "text/html": [
       "<div>\n",
       "<style scoped>\n",
       "    .dataframe tbody tr th:only-of-type {\n",
       "        vertical-align: middle;\n",
       "    }\n",
       "\n",
       "    .dataframe tbody tr th {\n",
       "        vertical-align: top;\n",
       "    }\n",
       "\n",
       "    .dataframe thead tr th {\n",
       "        text-align: left;\n",
       "    }\n",
       "</style>\n",
       "<table border=\"1\" class=\"dataframe\">\n",
       "  <thead>\n",
       "    <tr>\n",
       "      <th></th>\n",
       "      <th>Training</th>\n",
       "      <th>Validation</th>\n",
       "    </tr>\n",
       "    <tr>\n",
       "      <th></th>\n",
       "      <th>en</th>\n",
       "      <th>en</th>\n",
       "    </tr>\n",
       "  </thead>\n",
       "  <tbody>\n",
       "    <tr>\n",
       "      <th>macro_f1</th>\n",
       "      <td>0.768555</td>\n",
       "      <td>0.778749</td>\n",
       "    </tr>\n",
       "  </tbody>\n",
       "</table>\n",
       "</div>"
      ],
      "text/plain": [
       "          Training Validation\n",
       "                en         en\n",
       "macro_f1  0.768555   0.778749"
      ]
     },
     "metadata": {},
     "output_type": "display_data"
    },
    {
     "data": {
      "text/html": [
       "<div>\n",
       "<style scoped>\n",
       "    .dataframe tbody tr th:only-of-type {\n",
       "        vertical-align: middle;\n",
       "    }\n",
       "\n",
       "    .dataframe tbody tr th {\n",
       "        vertical-align: top;\n",
       "    }\n",
       "\n",
       "    .dataframe thead tr th {\n",
       "        text-align: left;\n",
       "    }\n",
       "</style>\n",
       "<table border=\"1\" class=\"dataframe\">\n",
       "  <thead>\n",
       "    <tr>\n",
       "      <th></th>\n",
       "      <th>Training</th>\n",
       "      <th>Validation</th>\n",
       "    </tr>\n",
       "    <tr>\n",
       "      <th></th>\n",
       "      <th>en</th>\n",
       "      <th>en</th>\n",
       "    </tr>\n",
       "  </thead>\n",
       "  <tbody>\n",
       "    <tr>\n",
       "      <th>average_f1</th>\n",
       "      <td>0.769471</td>\n",
       "      <td>0.780963</td>\n",
       "    </tr>\n",
       "  </tbody>\n",
       "</table>\n",
       "</div>"
      ],
      "text/plain": [
       "            Training Validation\n",
       "                  en         en\n",
       "average_f1  0.769471   0.780963"
      ]
     },
     "metadata": {},
     "output_type": "display_data"
    },
    {
     "name": "stderr",
     "output_type": "stream",
     "text": [
      "INFO: Epoch 4/5\n"
     ]
    },
    {
     "data": {
      "application/vnd.jupyter.widget-view+json": {
       "model_id": "8a50e5b8693240d49242092373a7313e",
       "version_major": 2,
       "version_minor": 0
      },
      "text/plain": [
       "  0%|          | 0/2209 [00:00<?, ?it/s]"
      ]
     },
     "metadata": {},
     "output_type": "display_data"
    },
    {
     "data": {
      "application/vnd.jupyter.widget-view+json": {
       "model_id": "25b025ad26d749b0b65d6c782498d96d",
       "version_major": 2,
       "version_minor": 0
      },
      "text/plain": [
       "  0%|          | 0/474 [00:00<?, ?it/s]"
      ]
     },
     "metadata": {},
     "output_type": "display_data"
    },
    {
     "name": "stderr",
     "output_type": "stream",
     "text": [
      "INFO: - Found new best accuracy.\n"
     ]
    },
    {
     "data": {
      "text/html": [
       "<div>\n",
       "<style scoped>\n",
       "    .dataframe tbody tr th:only-of-type {\n",
       "        vertical-align: middle;\n",
       "    }\n",
       "\n",
       "    .dataframe tbody tr th {\n",
       "        vertical-align: top;\n",
       "    }\n",
       "\n",
       "    .dataframe thead tr th {\n",
       "        text-align: left;\n",
       "    }\n",
       "</style>\n",
       "<table border=\"1\" class=\"dataframe\">\n",
       "  <thead>\n",
       "    <tr>\n",
       "      <th></th>\n",
       "      <th colspan=\"5\" halign=\"left\">Training</th>\n",
       "      <th colspan=\"5\" halign=\"left\">Validation</th>\n",
       "    </tr>\n",
       "    <tr>\n",
       "      <th></th>\n",
       "      <th>Average f1</th>\n",
       "      <th>Loss</th>\n",
       "      <th>Macro f1</th>\n",
       "      <th>Micro f1</th>\n",
       "      <th>Time (secs)</th>\n",
       "      <th>Average f1</th>\n",
       "      <th>Loss</th>\n",
       "      <th>Macro f1</th>\n",
       "      <th>Micro f1</th>\n",
       "      <th>Time (secs)</th>\n",
       "    </tr>\n",
       "  </thead>\n",
       "  <tbody>\n",
       "    <tr>\n",
       "      <th>4</th>\n",
       "      <td>0.792847</td>\n",
       "      <td>0.520961</td>\n",
       "      <td>0.791992</td>\n",
       "      <td>0.793702</td>\n",
       "      <td>310.437948</td>\n",
       "      <td>0.791279</td>\n",
       "      <td>0.53513</td>\n",
       "      <td>0.790336</td>\n",
       "      <td>0.792222</td>\n",
       "      <td>34.670506</td>\n",
       "    </tr>\n",
       "  </tbody>\n",
       "</table>\n",
       "</div>"
      ],
      "text/plain": [
       "    Training                                           Validation           \\\n",
       "  Average f1      Loss  Macro f1  Micro f1 Time (secs) Average f1     Loss   \n",
       "4   0.792847  0.520961  0.791992  0.793702  310.437948   0.791279  0.53513   \n",
       "\n",
       "                                   \n",
       "   Macro f1  Micro f1 Time (secs)  \n",
       "4  0.790336  0.792222   34.670506  "
      ]
     },
     "metadata": {},
     "output_type": "display_data"
    },
    {
     "data": {
      "text/html": [
       "<div>\n",
       "<style scoped>\n",
       "    .dataframe tbody tr th:only-of-type {\n",
       "        vertical-align: middle;\n",
       "    }\n",
       "\n",
       "    .dataframe tbody tr th {\n",
       "        vertical-align: top;\n",
       "    }\n",
       "\n",
       "    .dataframe thead tr th {\n",
       "        text-align: left;\n",
       "    }\n",
       "</style>\n",
       "<table border=\"1\" class=\"dataframe\">\n",
       "  <thead>\n",
       "    <tr>\n",
       "      <th></th>\n",
       "      <th>Training</th>\n",
       "      <th>Validation</th>\n",
       "    </tr>\n",
       "    <tr>\n",
       "      <th></th>\n",
       "      <th>en</th>\n",
       "      <th>en</th>\n",
       "    </tr>\n",
       "  </thead>\n",
       "  <tbody>\n",
       "    <tr>\n",
       "      <th>accuracy</th>\n",
       "      <td>0.793702</td>\n",
       "      <td>0.792222</td>\n",
       "    </tr>\n",
       "  </tbody>\n",
       "</table>\n",
       "</div>"
      ],
      "text/plain": [
       "          Training Validation\n",
       "                en         en\n",
       "accuracy  0.793702   0.792222"
      ]
     },
     "metadata": {},
     "output_type": "display_data"
    },
    {
     "data": {
      "text/html": [
       "<div>\n",
       "<style scoped>\n",
       "    .dataframe tbody tr th:only-of-type {\n",
       "        vertical-align: middle;\n",
       "    }\n",
       "\n",
       "    .dataframe tbody tr th {\n",
       "        vertical-align: top;\n",
       "    }\n",
       "\n",
       "    .dataframe thead tr th {\n",
       "        text-align: left;\n",
       "    }\n",
       "</style>\n",
       "<table border=\"1\" class=\"dataframe\">\n",
       "  <thead>\n",
       "    <tr>\n",
       "      <th></th>\n",
       "      <th>Training</th>\n",
       "      <th>Validation</th>\n",
       "    </tr>\n",
       "    <tr>\n",
       "      <th></th>\n",
       "      <th>en</th>\n",
       "      <th>en</th>\n",
       "    </tr>\n",
       "  </thead>\n",
       "  <tbody>\n",
       "    <tr>\n",
       "      <th>macro_f1</th>\n",
       "      <td>0.791992</td>\n",
       "      <td>0.790336</td>\n",
       "    </tr>\n",
       "  </tbody>\n",
       "</table>\n",
       "</div>"
      ],
      "text/plain": [
       "          Training Validation\n",
       "                en         en\n",
       "macro_f1  0.791992   0.790336"
      ]
     },
     "metadata": {},
     "output_type": "display_data"
    },
    {
     "data": {
      "text/html": [
       "<div>\n",
       "<style scoped>\n",
       "    .dataframe tbody tr th:only-of-type {\n",
       "        vertical-align: middle;\n",
       "    }\n",
       "\n",
       "    .dataframe tbody tr th {\n",
       "        vertical-align: top;\n",
       "    }\n",
       "\n",
       "    .dataframe thead tr th {\n",
       "        text-align: left;\n",
       "    }\n",
       "</style>\n",
       "<table border=\"1\" class=\"dataframe\">\n",
       "  <thead>\n",
       "    <tr>\n",
       "      <th></th>\n",
       "      <th>Training</th>\n",
       "      <th>Validation</th>\n",
       "    </tr>\n",
       "    <tr>\n",
       "      <th></th>\n",
       "      <th>en</th>\n",
       "      <th>en</th>\n",
       "    </tr>\n",
       "  </thead>\n",
       "  <tbody>\n",
       "    <tr>\n",
       "      <th>average_f1</th>\n",
       "      <td>0.792847</td>\n",
       "      <td>0.791279</td>\n",
       "    </tr>\n",
       "  </tbody>\n",
       "</table>\n",
       "</div>"
      ],
      "text/plain": [
       "            Training Validation\n",
       "                  en         en\n",
       "average_f1  0.792847   0.791279"
      ]
     },
     "metadata": {},
     "output_type": "display_data"
    },
    {
     "name": "stderr",
     "output_type": "stream",
     "text": [
      "INFO: Epoch 5/5\n"
     ]
    },
    {
     "data": {
      "application/vnd.jupyter.widget-view+json": {
       "model_id": "68ec0cbaa6454de5b23e5c6fb282d805",
       "version_major": 2,
       "version_minor": 0
      },
      "text/plain": [
       "  0%|          | 0/2209 [00:00<?, ?it/s]"
      ]
     },
     "metadata": {},
     "output_type": "display_data"
    },
    {
     "data": {
      "application/vnd.jupyter.widget-view+json": {
       "model_id": "f7707796d3ed494bb78731aadf5fa110",
       "version_major": 2,
       "version_minor": 0
      },
      "text/plain": [
       "  0%|          | 0/474 [00:00<?, ?it/s]"
      ]
     },
     "metadata": {},
     "output_type": "display_data"
    },
    {
     "name": "stderr",
     "output_type": "stream",
     "text": [
      "INFO: - Found new best accuracy.\n"
     ]
    },
    {
     "data": {
      "text/html": [
       "<div>\n",
       "<style scoped>\n",
       "    .dataframe tbody tr th:only-of-type {\n",
       "        vertical-align: middle;\n",
       "    }\n",
       "\n",
       "    .dataframe tbody tr th {\n",
       "        vertical-align: top;\n",
       "    }\n",
       "\n",
       "    .dataframe thead tr th {\n",
       "        text-align: left;\n",
       "    }\n",
       "</style>\n",
       "<table border=\"1\" class=\"dataframe\">\n",
       "  <thead>\n",
       "    <tr>\n",
       "      <th></th>\n",
       "      <th colspan=\"5\" halign=\"left\">Training</th>\n",
       "      <th colspan=\"5\" halign=\"left\">Validation</th>\n",
       "    </tr>\n",
       "    <tr>\n",
       "      <th></th>\n",
       "      <th>Average f1</th>\n",
       "      <th>Loss</th>\n",
       "      <th>Macro f1</th>\n",
       "      <th>Micro f1</th>\n",
       "      <th>Time (secs)</th>\n",
       "      <th>Average f1</th>\n",
       "      <th>Loss</th>\n",
       "      <th>Macro f1</th>\n",
       "      <th>Micro f1</th>\n",
       "      <th>Time (secs)</th>\n",
       "    </tr>\n",
       "  </thead>\n",
       "  <tbody>\n",
       "    <tr>\n",
       "      <th>5</th>\n",
       "      <td>0.79699</td>\n",
       "      <td>0.511851</td>\n",
       "      <td>0.796133</td>\n",
       "      <td>0.797847</td>\n",
       "      <td>309.921146</td>\n",
       "      <td>0.792855</td>\n",
       "      <td>0.540744</td>\n",
       "      <td>0.792036</td>\n",
       "      <td>0.793675</td>\n",
       "      <td>34.486546</td>\n",
       "    </tr>\n",
       "  </tbody>\n",
       "</table>\n",
       "</div>"
      ],
      "text/plain": [
       "    Training                                           Validation            \\\n",
       "  Average f1      Loss  Macro f1  Micro f1 Time (secs) Average f1      Loss   \n",
       "5    0.79699  0.511851  0.796133  0.797847  309.921146   0.792855  0.540744   \n",
       "\n",
       "                                   \n",
       "   Macro f1  Micro f1 Time (secs)  \n",
       "5  0.792036  0.793675   34.486546  "
      ]
     },
     "metadata": {},
     "output_type": "display_data"
    },
    {
     "data": {
      "text/html": [
       "<div>\n",
       "<style scoped>\n",
       "    .dataframe tbody tr th:only-of-type {\n",
       "        vertical-align: middle;\n",
       "    }\n",
       "\n",
       "    .dataframe tbody tr th {\n",
       "        vertical-align: top;\n",
       "    }\n",
       "\n",
       "    .dataframe thead tr th {\n",
       "        text-align: left;\n",
       "    }\n",
       "</style>\n",
       "<table border=\"1\" class=\"dataframe\">\n",
       "  <thead>\n",
       "    <tr>\n",
       "      <th></th>\n",
       "      <th>Training</th>\n",
       "      <th>Validation</th>\n",
       "    </tr>\n",
       "    <tr>\n",
       "      <th></th>\n",
       "      <th>en</th>\n",
       "      <th>en</th>\n",
       "    </tr>\n",
       "  </thead>\n",
       "  <tbody>\n",
       "    <tr>\n",
       "      <th>accuracy</th>\n",
       "      <td>0.797847</td>\n",
       "      <td>0.793675</td>\n",
       "    </tr>\n",
       "  </tbody>\n",
       "</table>\n",
       "</div>"
      ],
      "text/plain": [
       "          Training Validation\n",
       "                en         en\n",
       "accuracy  0.797847   0.793675"
      ]
     },
     "metadata": {},
     "output_type": "display_data"
    },
    {
     "data": {
      "text/html": [
       "<div>\n",
       "<style scoped>\n",
       "    .dataframe tbody tr th:only-of-type {\n",
       "        vertical-align: middle;\n",
       "    }\n",
       "\n",
       "    .dataframe tbody tr th {\n",
       "        vertical-align: top;\n",
       "    }\n",
       "\n",
       "    .dataframe thead tr th {\n",
       "        text-align: left;\n",
       "    }\n",
       "</style>\n",
       "<table border=\"1\" class=\"dataframe\">\n",
       "  <thead>\n",
       "    <tr>\n",
       "      <th></th>\n",
       "      <th>Training</th>\n",
       "      <th>Validation</th>\n",
       "    </tr>\n",
       "    <tr>\n",
       "      <th></th>\n",
       "      <th>en</th>\n",
       "      <th>en</th>\n",
       "    </tr>\n",
       "  </thead>\n",
       "  <tbody>\n",
       "    <tr>\n",
       "      <th>macro_f1</th>\n",
       "      <td>0.796133</td>\n",
       "      <td>0.792036</td>\n",
       "    </tr>\n",
       "  </tbody>\n",
       "</table>\n",
       "</div>"
      ],
      "text/plain": [
       "          Training Validation\n",
       "                en         en\n",
       "macro_f1  0.796133   0.792036"
      ]
     },
     "metadata": {},
     "output_type": "display_data"
    },
    {
     "data": {
      "text/html": [
       "<div>\n",
       "<style scoped>\n",
       "    .dataframe tbody tr th:only-of-type {\n",
       "        vertical-align: middle;\n",
       "    }\n",
       "\n",
       "    .dataframe tbody tr th {\n",
       "        vertical-align: top;\n",
       "    }\n",
       "\n",
       "    .dataframe thead tr th {\n",
       "        text-align: left;\n",
       "    }\n",
       "</style>\n",
       "<table border=\"1\" class=\"dataframe\">\n",
       "  <thead>\n",
       "    <tr>\n",
       "      <th></th>\n",
       "      <th>Training</th>\n",
       "      <th>Validation</th>\n",
       "    </tr>\n",
       "    <tr>\n",
       "      <th></th>\n",
       "      <th>en</th>\n",
       "      <th>en</th>\n",
       "    </tr>\n",
       "  </thead>\n",
       "  <tbody>\n",
       "    <tr>\n",
       "      <th>average_f1</th>\n",
       "      <td>0.79699</td>\n",
       "      <td>0.792855</td>\n",
       "    </tr>\n",
       "  </tbody>\n",
       "</table>\n",
       "</div>"
      ],
      "text/plain": [
       "           Training Validation\n",
       "                 en         en\n",
       "average_f1  0.79699   0.792855"
      ]
     },
     "metadata": {},
     "output_type": "display_data"
    },
    {
     "name": "stderr",
     "output_type": "stream",
     "text": [
      "INFO: - Total training time : 1724.3776422850788 secs\n"
     ]
    }
   ],
   "source": [
    "summary = train_evaluate.train_and_evaluate(xnli_model, train_dataloader, valid_dataloader, \n",
    "                                            metric_params, train_params, continue_training=False)"
   ]
  },
  {
   "cell_type": "markdown",
   "id": "54f1e3a7",
   "metadata": {},
   "source": [
    "## Evaluation"
   ]
  },
  {
   "cell_type": "code",
   "execution_count": 34,
   "id": "02e270f6",
   "metadata": {},
   "outputs": [],
   "source": [
    "data_sw = complete_data[complete_data.language == \"sw\"].reset_index(drop=True)"
   ]
  },
  {
   "cell_type": "code",
   "execution_count": 35,
   "id": "c149fd17",
   "metadata": {},
   "outputs": [
    {
     "data": {
      "text/html": [
       "<div>\n",
       "<style scoped>\n",
       "    .dataframe tbody tr th:only-of-type {\n",
       "        vertical-align: middle;\n",
       "    }\n",
       "\n",
       "    .dataframe tbody tr th {\n",
       "        vertical-align: top;\n",
       "    }\n",
       "\n",
       "    .dataframe thead th {\n",
       "        text-align: right;\n",
       "    }\n",
       "</style>\n",
       "<table border=\"1\" class=\"dataframe\">\n",
       "  <thead>\n",
       "    <tr style=\"text-align: right;\">\n",
       "      <th></th>\n",
       "      <th>gold_label</th>\n",
       "      <th>premise</th>\n",
       "      <th>hypothesis</th>\n",
       "      <th>language</th>\n",
       "    </tr>\n",
       "  </thead>\n",
       "  <tbody>\n",
       "    <tr>\n",
       "      <th>0</th>\n",
       "      <td>contradiction</td>\n",
       "      <td>Wanaweza pia kuwa wazuri baada ya kufunzwa.</td>\n",
       "      <td>Wanakuwa wagumu na baridi baada ya kukamilisha...</td>\n",
       "      <td>sw</td>\n",
       "    </tr>\n",
       "    <tr>\n",
       "      <th>1</th>\n",
       "      <td>entailment</td>\n",
       "      <td>Hauna heshima bwana kama vile nishaona.</td>\n",
       "      <td>Mwanaume anatenda vitu kishamba.</td>\n",
       "      <td>sw</td>\n",
       "    </tr>\n",
       "    <tr>\n",
       "      <th>2</th>\n",
       "      <td>contradiction</td>\n",
       "      <td>Mimi, kwa upande mwingine, huwa na tamaa kama ...</td>\n",
       "      <td>Ni afadhali nile pea 100 kuliko tufaha.</td>\n",
       "      <td>sw</td>\n",
       "    </tr>\n",
       "    <tr>\n",
       "      <th>3</th>\n",
       "      <td>contradiction</td>\n",
       "      <td>Hakika, ni vizuri, miendo zikawa za kasi na ka...</td>\n",
       "      <td>Ilionekana kukawia milele.</td>\n",
       "      <td>sw</td>\n",
       "    </tr>\n",
       "    <tr>\n",
       "      <th>4</th>\n",
       "      <td>entailment</td>\n",
       "      <td>Alitafuta faraja katika mstari katika ukurasa ...</td>\n",
       "      <td>Kulikuwa na lugha ya kigeni katika kurasa mbel...</td>\n",
       "      <td>sw</td>\n",
       "    </tr>\n",
       "    <tr>\n",
       "      <th>...</th>\n",
       "      <td>...</td>\n",
       "      <td>...</td>\n",
       "      <td>...</td>\n",
       "      <td>...</td>\n",
       "    </tr>\n",
       "    <tr>\n",
       "      <th>101973</th>\n",
       "      <td>neutral</td>\n",
       "      <td>Maonyesho ya hisia ya chini katika subgroup mu...</td>\n",
       "      <td>Maonyesho kadhaa yanayohusiana na subgroups it...</td>\n",
       "      <td>sw</td>\n",
       "    </tr>\n",
       "    <tr>\n",
       "      <th>101974</th>\n",
       "      <td>contradiction</td>\n",
       "      <td>kwa kweli mimi tu kuweka uh kidogo fence karib...</td>\n",
       "      <td>Sikuwahi kuwa na mbegu katika bahari yangu.</td>\n",
       "      <td>sw</td>\n",
       "    </tr>\n",
       "    <tr>\n",
       "      <th>101975</th>\n",
       "      <td>contradiction</td>\n",
       "      <td>Ikiwa wewe tayari hawana ufahamu wazi wa aina ...</td>\n",
       "      <td>Siku hiyo haina kuonyesha kwa hakika.</td>\n",
       "      <td>sw</td>\n",
       "    </tr>\n",
       "    <tr>\n",
       "      <th>101976</th>\n",
       "      <td>neutral</td>\n",
       "      <td>Nimeishi huko Texas kando na nataka kuishi huk...</td>\n",
       "      <td>Nimesafiri kwa gari kwa Zaidi ya saa mbili had...</td>\n",
       "      <td>sw</td>\n",
       "    </tr>\n",
       "    <tr>\n",
       "      <th>101977</th>\n",
       "      <td>entailment</td>\n",
       "      <td>Mfalme na wafalme na wafalme wa kiroho wameond...</td>\n",
       "      <td>Nchi ya michezo ya kubahatisha bado kuna, inga...</td>\n",
       "      <td>sw</td>\n",
       "    </tr>\n",
       "  </tbody>\n",
       "</table>\n",
       "<p>101978 rows × 4 columns</p>\n",
       "</div>"
      ],
      "text/plain": [
       "           gold_label                                            premise  \\\n",
       "0       contradiction        Wanaweza pia kuwa wazuri baada ya kufunzwa.   \n",
       "1          entailment            Hauna heshima bwana kama vile nishaona.   \n",
       "2       contradiction  Mimi, kwa upande mwingine, huwa na tamaa kama ...   \n",
       "3       contradiction  Hakika, ni vizuri, miendo zikawa za kasi na ka...   \n",
       "4          entailment  Alitafuta faraja katika mstari katika ukurasa ...   \n",
       "...               ...                                                ...   \n",
       "101973        neutral  Maonyesho ya hisia ya chini katika subgroup mu...   \n",
       "101974  contradiction  kwa kweli mimi tu kuweka uh kidogo fence karib...   \n",
       "101975  contradiction  Ikiwa wewe tayari hawana ufahamu wazi wa aina ...   \n",
       "101976        neutral  Nimeishi huko Texas kando na nataka kuishi huk...   \n",
       "101977     entailment  Mfalme na wafalme na wafalme wa kiroho wameond...   \n",
       "\n",
       "                                               hypothesis language  \n",
       "0       Wanakuwa wagumu na baridi baada ya kukamilisha...       sw  \n",
       "1                        Mwanaume anatenda vitu kishamba.       sw  \n",
       "2                 Ni afadhali nile pea 100 kuliko tufaha.       sw  \n",
       "3                              Ilionekana kukawia milele.       sw  \n",
       "4       Kulikuwa na lugha ya kigeni katika kurasa mbel...       sw  \n",
       "...                                                   ...      ...  \n",
       "101973  Maonyesho kadhaa yanayohusiana na subgroups it...       sw  \n",
       "101974        Sikuwahi kuwa na mbegu katika bahari yangu.       sw  \n",
       "101975              Siku hiyo haina kuonyesha kwa hakika.       sw  \n",
       "101976  Nimesafiri kwa gari kwa Zaidi ya saa mbili had...       sw  \n",
       "101977  Nchi ya michezo ya kubahatisha bado kuna, inga...       sw  \n",
       "\n",
       "[101978 rows x 4 columns]"
      ]
     },
     "execution_count": 35,
     "metadata": {},
     "output_type": "execute_result"
    }
   ],
   "source": [
    "data_sw"
   ]
  },
  {
   "cell_type": "code",
   "execution_count": 37,
   "id": "b3d0943a",
   "metadata": {},
   "outputs": [],
   "source": [
    "xnli_model.xlmr.active_adapters = Stack(\"sw\", \"xnli\")"
   ]
  },
  {
   "cell_type": "code",
   "execution_count": 39,
   "id": "082c614f",
   "metadata": {},
   "outputs": [],
   "source": [
    "valid_dataset = xlmr_xnli_dataset.XLMRXNLIDataset(data_sw, tokenizer, torch.device('cpu'))\n",
    "\n",
    "valid_dataloader = DataLoader(\n",
    "        valid_dataset, \n",
    "        batch_size=batch_size,\n",
    "        drop_last=False,\n",
    "        num_workers=0,\n",
    "        shuffle=True,\n",
    "        collate_fn=tokenizer.pad\n",
    "    )"
   ]
  },
  {
   "cell_type": "code",
   "execution_count": 51,
   "id": "9d20fc79",
   "metadata": {},
   "outputs": [],
   "source": [
    "valid_lang = ['sw']\n",
    "valid_lang_codes = {lang_code_map[lang]: lang for lang in valid_lang}"
   ]
  },
  {
   "cell_type": "code",
   "execution_count": null,
   "id": "3b204043",
   "metadata": {},
   "outputs": [
    {
     "data": {
      "application/vnd.jupyter.widget-view+json": {
       "model_id": "e815ec73f6954cd4934a23ff51e689ec",
       "version_major": 2,
       "version_minor": 0
      },
      "text/plain": [
       "  0%|          | 0/3187 [00:00<?, ?it/s]"
      ]
     },
     "metadata": {},
     "output_type": "display_data"
    }
   ],
   "source": [
    "criterion = torch.nn.NLLLoss()\n",
    "valid_metrics = train_evaluate.evaluate(xnli_model, valid_dataloader, criterion, metric_params, \n",
    "                                        valid_lang_codes, device)"
   ]
  },
  {
   "cell_type": "code",
   "execution_count": 49,
   "id": "bcb0c830",
   "metadata": {},
   "outputs": [
    {
     "data": {
      "text/plain": [
       "{'loss': 1.0444867271575802,\n",
       " 'accuracy': {'en': 0.0, 'all': 0.0},\n",
       " 'macro_f1': {'en': nan, 'all': nan},\n",
       " 'average_f1': {'en': nan, 'all': nan}}"
      ]
     },
     "execution_count": 49,
     "metadata": {},
     "output_type": "execute_result"
    }
   ],
   "source": [
    "valid_metrics"
   ]
  },
  {
   "cell_type": "code",
   "execution_count": null,
   "id": "941f9a46",
   "metadata": {},
   "outputs": [],
   "source": []
  },
  {
   "cell_type": "code",
   "execution_count": null,
   "id": "e2ad0cdc",
   "metadata": {},
   "outputs": [],
   "source": []
  },
  {
   "cell_type": "code",
   "execution_count": null,
   "id": "1d52f92c",
   "metadata": {},
   "outputs": [],
   "source": []
  },
  {
   "cell_type": "code",
   "execution_count": null,
   "id": "0df4dc3e",
   "metadata": {},
   "outputs": [],
   "source": []
  },
  {
   "cell_type": "code",
   "execution_count": null,
   "id": "f498a034",
   "metadata": {},
   "outputs": [],
   "source": []
  }
 ],
 "metadata": {
  "kernelspec": {
   "display_name": "Python 3 (ipykernel)",
   "language": "python",
   "name": "python3"
  },
  "language_info": {
   "codemirror_mode": {
    "name": "ipython",
    "version": 3
   },
   "file_extension": ".py",
   "mimetype": "text/x-python",
   "name": "python",
   "nbconvert_exporter": "python",
   "pygments_lexer": "ipython3",
   "version": "3.7.12"
  },
  "toc": {
   "base_numbering": 1,
   "nav_menu": {},
   "number_sections": true,
   "sideBar": true,
   "skip_h1_title": false,
   "title_cell": "Table of Contents",
   "title_sidebar": "Contents",
   "toc_cell": false,
   "toc_position": {},
   "toc_section_display": true,
   "toc_window_display": false
  }
 },
 "nbformat": 4,
 "nbformat_minor": 5
}
