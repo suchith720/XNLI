{
 "cells": [
  {
   "cell_type": "code",
   "execution_count": 1,
   "id": "ea22dc07",
   "metadata": {},
   "outputs": [],
   "source": [
    "%reload_ext autoreload\n",
    "%autoreload 2"
   ]
  },
  {
   "cell_type": "code",
   "execution_count": 46,
   "id": "2a45c095",
   "metadata": {},
   "outputs": [],
   "source": [
    "import os\n",
    "import torch\n",
    "import random\n",
    "import numpy as np\n",
    "import pandas as pd\n",
    "from pathlib import Path\n",
    "from tqdm.notebook import tqdm\n",
    "from torch.utils.data import Dataset\n",
    "from torch.utils.data import DataLoader"
   ]
  },
  {
   "cell_type": "code",
   "execution_count": 3,
   "id": "a0b408bb",
   "metadata": {},
   "outputs": [],
   "source": [
    "from utils import io\n",
    "from utils import plot\n",
    "from utils import metric\n",
    "from model import train_evaluate\n",
    "\n",
    "from model import xlmr_xnli_model\n",
    "from model import xlmr_xnli_dataset\n",
    "\n",
    "from transformers import XLMRobertaTokenizer, XLMRobertaModel"
   ]
  },
  {
   "cell_type": "markdown",
   "id": "75235117",
   "metadata": {},
   "source": [
    "## XNLI"
   ]
  },
  {
   "cell_type": "code",
   "execution_count": 4,
   "id": "61091cf8",
   "metadata": {},
   "outputs": [],
   "source": [
    "device = torch.device('cuda' if torch.cuda.is_available() else 'cpu')"
   ]
  },
  {
   "cell_type": "code",
   "execution_count": 5,
   "id": "3407d3ed",
   "metadata": {},
   "outputs": [],
   "source": [
    "seed = 144\n",
    "random.seed(seed)\n",
    "np.random.seed(seed)\n",
    "torch.manual_seed(seed)\n",
    "torch.backends.cudnn.deterministic = True"
   ]
  },
  {
   "cell_type": "code",
   "execution_count": 6,
   "id": "986cb1fe",
   "metadata": {},
   "outputs": [],
   "source": [
    "batch_size = 32"
   ]
  },
  {
   "cell_type": "code",
   "execution_count": 9,
   "id": "8a597f3a",
   "metadata": {},
   "outputs": [],
   "source": [
    "input_file = 'data/test/sample_input'\n",
    "output_file = 'data/test/sample_output'\n",
    "\n",
    "model_file = \"experiments/LinearHead/R_014/best_014.pth.tar\"\n",
    "info_file = \"experiments/LinearHead/R_014/info_014.pth.tar\""
   ]
  },
  {
   "cell_type": "markdown",
   "id": "5e871e92",
   "metadata": {},
   "source": [
    "### information file"
   ]
  },
  {
   "cell_type": "code",
   "execution_count": 11,
   "id": "b34d3ff2",
   "metadata": {},
   "outputs": [],
   "source": [
    "model_params, dataset_info = io.load_info_file(info_file)"
   ]
  },
  {
   "cell_type": "markdown",
   "id": "36ce052d",
   "metadata": {},
   "source": [
    "### load data"
   ]
  },
  {
   "cell_type": "code",
   "execution_count": 17,
   "id": "99adbeb1",
   "metadata": {},
   "outputs": [],
   "source": [
    "languages = ['zh', 'es', 'hi', 'sw']\n",
    "\n",
    "lang_code_map = {x:i for i, x in enumerate(dataset_info['language'])}\n",
    "lang_codes = {lang_code_map[lang]: lang for lang in languages}"
   ]
  },
  {
   "cell_type": "code",
   "execution_count": 19,
   "id": "87987ed9",
   "metadata": {},
   "outputs": [],
   "source": [
    "data = io.load_xnli_test_dataset(input_file, dataset_info['language'])"
   ]
  },
  {
   "cell_type": "markdown",
   "id": "fb6e9650",
   "metadata": {},
   "source": [
    "### dataloader"
   ]
  },
  {
   "cell_type": "code",
   "execution_count": 21,
   "id": "3438342d",
   "metadata": {},
   "outputs": [],
   "source": [
    "tokenizer = XLMRobertaTokenizer.from_pretrained(\"xlm-roberta-base\")"
   ]
  },
  {
   "cell_type": "code",
   "execution_count": 22,
   "id": "a3dd8d6f",
   "metadata": {},
   "outputs": [],
   "source": [
    "test_dataset = xlmr_xnli_dataset.XLMRXNLIDataset(data, tokenizer, torch.device('cpu'), isTrain=False)"
   ]
  },
  {
   "cell_type": "code",
   "execution_count": 27,
   "id": "3abb156d",
   "metadata": {},
   "outputs": [
    {
     "data": {
      "text/plain": [
       "{'input_ids': tensor([    0, 81713,  6284,  2467, 10848,     4,  4006,  2259,   524, 22567,\n",
       "             4,     6, 56906,     4,   253,     4,  2259,   687, 28617,  1358,\n",
       "           158,  3030,     5,     2,     2, 14343,  4022,   158,  3030,  3178,\n",
       "         16859,   681, 10900, 11847,     2]),\n",
       " 'attention_mask': tensor([1, 1, 1, 1, 1, 1, 1, 1, 1, 1, 1, 1, 1, 1, 1, 1, 1, 1, 1, 1, 1, 1, 1, 1,\n",
       "         1, 1, 1, 1, 1, 1, 1, 1, 1, 1, 1]),\n",
       " 'language': tensor(13)}"
      ]
     },
     "execution_count": 27,
     "metadata": {},
     "output_type": "execute_result"
    }
   ],
   "source": [
    "test_dataset[0]"
   ]
  },
  {
   "cell_type": "code",
   "execution_count": 28,
   "id": "b8bf21f9",
   "metadata": {},
   "outputs": [],
   "source": [
    "test_dataloader = DataLoader(\n",
    "    test_dataset, \n",
    "    batch_size=batch_size,\n",
    "    drop_last=False,\n",
    "    num_workers=0,\n",
    "    shuffle=False,\n",
    "    collate_fn=tokenizer.pad\n",
    ")"
   ]
  },
  {
   "cell_type": "code",
   "execution_count": 29,
   "id": "ceee8847",
   "metadata": {},
   "outputs": [],
   "source": [
    "batch = next(iter(test_dataloader))"
   ]
  },
  {
   "cell_type": "markdown",
   "id": "ea5268d1",
   "metadata": {},
   "source": [
    "### model"
   ]
  },
  {
   "cell_type": "code",
   "execution_count": 31,
   "id": "53a347a6",
   "metadata": {},
   "outputs": [],
   "source": [
    "xnli_model = xlmr_xnli_model.XLMRXLNIModel(**model_params)"
   ]
  },
  {
   "cell_type": "code",
   "execution_count": 32,
   "id": "dbb85cda",
   "metadata": {},
   "outputs": [],
   "source": [
    "state = io.load_checkpoint(model_file, xnli_model, device)"
   ]
  },
  {
   "cell_type": "code",
   "execution_count": 36,
   "id": "7fabefce",
   "metadata": {},
   "outputs": [
    {
     "data": {
      "application/vnd.jupyter.widget-view+json": {
       "model_id": "509eaa23baa34ad899484284bc0dd23a",
       "version_major": 2,
       "version_minor": 0
      },
      "text/plain": [
       "  0%|          | 0/1 [00:00<?, ?it/s]"
      ]
     },
     "metadata": {},
     "output_type": "display_data"
    }
   ],
   "source": [
    "output = train_evaluate.predict(xnli_model, test_dataloader, dataset_info['gold_labels'], device)"
   ]
  },
  {
   "cell_type": "code",
   "execution_count": 48,
   "id": "eb21e360",
   "metadata": {},
   "outputs": [],
   "source": [
    "save_file = 'data/test/output_file'\n",
    "\n",
    "Path(os.path.dirname(save_file)).mkdir(parents=True, exist_ok=True)\n",
    "\n",
    "pd.DataFrame(output).to_csv(save_file, header=False, index=False)"
   ]
  },
  {
   "cell_type": "code",
   "execution_count": null,
   "id": "f37c9acc",
   "metadata": {},
   "outputs": [],
   "source": []
  }
 ],
 "metadata": {
  "kernelspec": {
   "display_name": "Python 3 (ipykernel)",
   "language": "python",
   "name": "python3"
  },
  "language_info": {
   "codemirror_mode": {
    "name": "ipython",
    "version": 3
   },
   "file_extension": ".py",
   "mimetype": "text/x-python",
   "name": "python",
   "nbconvert_exporter": "python",
   "pygments_lexer": "ipython3",
   "version": "3.7.12"
  },
  "toc": {
   "base_numbering": 1,
   "nav_menu": {},
   "number_sections": true,
   "sideBar": true,
   "skip_h1_title": false,
   "title_cell": "Table of Contents",
   "title_sidebar": "Contents",
   "toc_cell": false,
   "toc_position": {},
   "toc_section_display": true,
   "toc_window_display": false
  }
 },
 "nbformat": 4,
 "nbformat_minor": 5
}
